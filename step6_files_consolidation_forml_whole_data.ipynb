{
 "cells": [
  {
   "cell_type": "code",
   "execution_count": 15,
   "metadata": {},
   "outputs": [
    {
     "name": "stderr",
     "output_type": "stream",
     "text": [
      "/Users/abhimanyuabhinav/opt/anaconda3/lib/python3.7/site-packages/ipykernel_launcher.py:24: FutureWarning: Sorting because non-concatenation axis is not aligned. A future version\n",
      "of pandas will change to not sort by default.\n",
      "\n",
      "To accept the future behavior, pass 'sort=False'.\n",
      "\n",
      "To retain the current behavior and silence the warning, pass 'sort=True'.\n",
      "\n"
     ]
    }
   ],
   "source": [
    "#@authors  - abhimanyu,roshan,abhijeet\n",
    "# =============================================================\n",
    "#This code aggregates the tables folder to generate the files \n",
    "#only with rows that has exponential/logistic coefficients value against them and ultimately aggregate them \n",
    "#into one consolidated file which then can be used to feed into ML algorithms\n",
    "#\n",
    "#==================================================================================\n",
    "\n",
    "import os\n",
    "from glob import glob\n",
    "from collections import defaultdict\n",
    "import pandas as pd\n",
    "import csv\n",
    "\n",
    "path = \"/Users/abhimanyuabhinav/Downloads/outputs_selected3/table/\"\n",
    "EXT = \"*.csv\"\n",
    "consolidated_outpath =\"/Users/abhimanyuabhinav/Desktop/consolidated_tables/\"\n",
    "\n",
    "empty_list = []\n",
    "\n",
    "\n",
    "all_filenames = [i for i in glob(os.path.join(path,EXT))]\n",
    "\n",
    "for f in all_filenames:\n",
    "    try:\n",
    "        empty_list.append(pd.read_csv(f, encoding = \"ISO-8859-1\"))\n",
    "        #combined_csv_data = combined_csv_data.concat([pd.read_csv(f, encoding = \"ISO-8859-1\")])\n",
    "    except:\n",
    "        print(f\"{f} has error\")\n",
    "\n",
    "combined_csv_data = pd.concat(empty_list)\n",
    "combined_csv_data.to_csv(consolidated_outpath + 'combined_csv_data2.csv')\n"
   ]
  },
  {
   "cell_type": "code",
   "execution_count": null,
   "metadata": {},
   "outputs": [],
   "source": []
  }
 ],
 "metadata": {
  "kernelspec": {
   "display_name": "Python 3",
   "language": "python",
   "name": "python3"
  },
  "language_info": {
   "codemirror_mode": {
    "name": "ipython",
    "version": 3
   },
   "file_extension": ".py",
   "mimetype": "text/x-python",
   "name": "python",
   "nbconvert_exporter": "python",
   "pygments_lexer": "ipython3",
   "version": "3.7.4"
  }
 },
 "nbformat": 4,
 "nbformat_minor": 2
}
