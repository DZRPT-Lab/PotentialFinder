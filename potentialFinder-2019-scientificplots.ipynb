{
 "cells": [
  {
   "cell_type": "markdown",
   "metadata": {},
   "source": [
    "# Bib for external:"
   ]
  },
  {
   "cell_type": "code",
   "execution_count": 6,
   "metadata": {},
   "outputs": [],
   "source": [
    "%run function.py"
   ]
  },
  {
   "cell_type": "code",
   "execution_count": null,
   "metadata": {
    "ExecuteTime": {
     "end_time": "2019-08-20T12:52:28.256698Z",
     "start_time": "2019-08-20T12:52:25.161514Z"
    },
    "collapsed": true,
    "scrolled": true
   },
   "outputs": [],
   "source": [
    "import potentialfinder\n",
    "\n"
   ]
  },
  {
   "cell_type": "code",
   "execution_count": null,
   "metadata": {
    "ExecuteTime": {
     "end_time": "2019-08-19T11:21:53.535684Z",
     "start_time": "2019-08-19T11:21:53.532673Z"
    },
    "collapsed": true
   },
   "outputs": [],
   "source": [
    "potentialfinder.find_exponents.__doc__"
   ]
  },
  {
   "cell_type": "markdown",
   "metadata": {},
   "source": [
    "# Examples"
   ]
  },
  {
   "cell_type": "markdown",
   "metadata": {},
   "source": [
    "## loading testdata in a dataframe"
   ]
  },
  {
   "cell_type": "code",
   "execution_count": null,
   "metadata": {
    "ExecuteTime": {
     "end_time": "2019-08-04T10:54:38.677092Z",
     "start_time": "2019-08-04T10:54:38.591230Z"
    },
    "collapsed": true
   },
   "outputs": [],
   "source": [
    "#sqlDFTest = spark.sql(\"SELECT * FROM db_prepared_bdas_rsu_local_e2e.bt_tal_main limit 10\")\n",
    "#sqlDF.show(1)\n",
    "#sqlDFTest = spark.sql(\"select * from db_source_gwk_local.v_bdgwk_t_gw_antrep_gut where rand() <= 0.0001 distribute by rand() sort by rand() limit 1000\")\n",
    "#sqlDFTest=pd.read_csv('kagglefiles\\\\aashita\\\\nyt-comments\\\\CommentsMay2017.csv')\n",
    "sqlDFTest=pd.read_csv('db_source_gwk_local.v_bdgwk_t_gw_antrep_gut.csv',sep=\";\")\n",
    "\n",
    "sqlDFTest.head(2)\n",
    "resulttable=find_exponents(sqlDFTest,\n",
    "                           fractionToAnalyze=1,\n",
    "                           outputPath='/outputs',\n",
    "                           outputTable=True,\n",
    "                           outputPlots=True,\n",
    "                           outputTablename='Testtable',\n",
    "                           logToScreen=True,\n",
    "                           columnFillThreshold=0.5,\n",
    "                           exp_threshold=0.1,\n",
    "                           r_s_threshold=0.7,\n",
    "                           maxrows=5000,\n",
    "                           debug=False)\n",
    "\n",
    "\n",
    "resulttable\n"
   ]
  },
  {
   "cell_type": "markdown",
   "metadata": {},
   "source": [
    "## Run the function on the test data:"
   ]
  },
  {
   "cell_type": "code",
   "execution_count": null,
   "metadata": {
    "ExecuteTime": {
     "end_time": "2019-08-04T11:16:19.353649Z",
     "start_time": "2019-08-04T11:16:11.293602Z"
    },
    "collapsed": true
   },
   "outputs": [],
   "source": [
    "resulttable=find_exponents(sqlDFTest,\n",
    "                           fractionToAnalyze=1,\n",
    "                           outputPath='/outputs',\n",
    "                           outputTable=True,\n",
    "                           outputPlots=True,\n",
    "                           outputTablename='Testtable',\n",
    "                           logToScreen=True,\n",
    "                           columnFillThreshold=0.5,\n",
    "                           exp_threshold=0.1,\n",
    "                           r_s_threshold=0.7,\n",
    "                           maxrows=5000,\n",
    "                           debug=False)\n",
    "\n",
    "\n",
    "resulttable\n",
    "\n"
   ]
  },
  {
   "cell_type": "markdown",
   "metadata": {},
   "source": [
    "## Run multiple queries with different parameters but add them up to one result dataframe"
   ]
  },
  {
   "cell_type": "code",
   "execution_count": null,
   "metadata": {
    "ExecuteTime": {
     "end_time": "2019-05-05T23:32:15.280892Z",
     "start_time": "2019-05-05T23:31:58.906199Z"
    },
    "collapsed": true
   },
   "outputs": [],
   "source": [
    "firstrow=True\n",
    "for fraction in [1,0.5,0.25]:\n",
    "    temptable=find_exponents(sqlDFTest,\n",
    "                           fractionToAnalyze=fraction,\n",
    "                           outputPath='outputs',\n",
    "                           outputTable=False,\n",
    "                           outputPlots=False,\n",
    "                           outputTablename='Testtable',\n",
    "                           logToScreen=False,\n",
    "                           columnFillThreshold=0.5,\n",
    "                           exp_threshold=0.6,\n",
    "                           r_s_threshold=0.7,\n",
    "                           maxrows=5000)\n",
    "    if firstrow:\n",
    "        resulttable=temptable\n",
    "        firstrow=False\n",
    "    else:\n",
    "        resulttable=resulttable.append(temptable)\n",
    "        \n",
    "resulttable\n",
    "    "
   ]
  },
  {
   "cell_type": "code",
   "execution_count": null,
   "metadata": {
    "ExecuteTime": {
     "end_time": "2019-08-20T21:30:16.098452Z",
     "start_time": "2019-08-20T21:30:16.041457Z"
    }
   },
   "outputs": [],
   "source": [
    "resulttable"
   ]
  },
  {
   "cell_type": "markdown",
   "metadata": {},
   "source": [
    "## Scientific graphs for a subset"
   ]
  },
  {
   "cell_type": "code",
   "execution_count": 1,
   "metadata": {},
   "outputs": [
    {
     "name": "stdout",
     "output_type": "stream",
     "text": "kagglefiles_azathoth42_myanimelist_users_cleaned.csv-join_date-user_id-100perc-log.png\nkagglefiles_azathoth42_myanimelist_users_cleaned.csv-join_date-user_id-100perc-nonlog.png\nkagglefiles_azathoth42_myanimelist_users_cleaned.csv-join_date-user_id-25perc-log.png\nkagglefiles_azathoth42_myanimelist_users_cleaned.csv-join_date-user_id-25perc-nonlog.png\nkagglefiles_azathoth42_myanimelist_users_cleaned.csv-join_date-user_id-50perc-log.png\nkagglefiles_azathoth42_myanimelist_users_cleaned.csv-join_date-user_id-50perc-nonlog.png\nkagglefiles_census_total-construction-spending-data-collection_total-construction-spending-residential_1.csv-date-value-25perc-log.png\nkagglefiles_census_total-construction-spending-data-collection_total-construction-spending-residential_1.csv-date-value-25perc-nonlog.png\nkagglefiles_census_total-construction-spending-data-collection_total-construction-spending-residential_1.csv-date-value-50perc-log.png\nkagglefiles_census_total-construction-spending-data-collection_total-construction-spending-residential_1.csv-date-value-50perc-nonlog.png\nkagglefiles_census_total-merchant-wholesalers-inventory-and-sales_total-merchant-wholesalers-except-manufacturers-sales-branches-and-offices-inventories.csv-date-value-100perc-log.png\nkagglefiles_census_total-merchant-wholesalers-inventory-and-sales_total-merchant-wholesalers-except-manufacturers-sales-branches-and-offices-inventories.csv-date-value-100perc-nonlog.png\nkagglefiles_census_total-merchant-wholesalers-inventory-and-sales_total-merchant-wholesalers-except-manufacturers-sales-branches-and-offices-inventories.csv-date-value-25perc-log.png\nkagglefiles_census_total-merchant-wholesalers-inventory-and-sales_total-merchant-wholesalers-except-manufacturers-sales-branches-and-offices-inventories.csv-date-value-25perc-nonlog.png\nkagglefiles_census_total-merchant-wholesalers-inventory-and-sales_total-merchant-wholesalers-except-manufacturers-sales-branches-and-offices-inventories.csv-date-value-50perc-log.png\nkagglefiles_census_total-merchant-wholesalers-inventory-and-sales_total-merchant-wholesalers-except-manufacturers-sales-branches-and-offices-inventories.csv-date-value-50perc-nonlog.png\nkagglefiles_census_total-merchant-wholesalers-inventory-and-sales_total-merchant-wholesalers-except-manufacturers-sales-branches-and-offices-sales.csv-date-value-100perc-log.png\nkagglefiles_census_total-merchant-wholesalers-inventory-and-sales_total-merchant-wholesalers-except-manufacturers-sales-branches-and-offices-sales.csv-date-value-100perc-nonlog.png\nkagglefiles_census_total-merchant-wholesalers-inventory-and-sales_total-merchant-wholesalers-except-manufacturers-sales-branches-and-offices-sales.csv-date-value-50perc-log.png\nkagglefiles_census_total-merchant-wholesalers-inventory-and-sales_total-merchant-wholesalers-except-manufacturers-sales-branches-and-offices-sales.csv-date-value-50perc-nonlog.png\nkagglefiles_chicago_chicago-lobbyist-data_lobbyist-data-lobbying-activity.csv-CREATED_DATE-LOBBYING_ACTIVITY_ID-100perc-log.png\nkagglefiles_chicago_chicago-lobbyist-data_lobbyist-data-lobbying-activity.csv-CREATED_DATE-LOBBYING_ACTIVITY_ID-100perc-nonlog.png\nkagglefiles_chicago_chicago-lobbyist-data_lobbyist-data-lobbying-activity.csv-CREATED_DATE-LOBBYING_ACTIVITY_ID-25perc-log.png\nkagglefiles_chicago_chicago-lobbyist-data_lobbyist-data-lobbying-activity.csv-CREATED_DATE-LOBBYING_ACTIVITY_ID-25perc-nonlog.png\nkagglefiles_chicago_chicago-lobbyist-data_lobbyist-data-lobbying-activity.csv-CREATED_DATE-LOBBYING_ACTIVITY_ID-50perc-log.png\nkagglefiles_chicago_chicago-lobbyist-data_lobbyist-data-lobbying-activity.csv-CREATED_DATE-LOBBYING_ACTIVITY_ID-50perc-nonlog.png\nkagglefiles_chicago_chicago-lobbyist-data_lobbyist-data-lobbying-activity.csv-CREATED_DATE-LOBBYIST_ID-100perc-log.png\nkagglefiles_chicago_chicago-lobbyist-data_lobbyist-data-lobbying-activity.csv-CREATED_DATE-LOBBYIST_ID-100perc-nonlog.png\nkagglefiles_chicago_chicago-lobbyist-data_lobbyist-data-lobbying-activity.csv-CREATED_DATE-LOBBYIST_ID-25perc-log.png\nkagglefiles_chicago_chicago-lobbyist-data_lobbyist-data-lobbying-activity.csv-CREATED_DATE-LOBBYIST_ID-25perc-nonlog.png\nkagglefiles_chicago_chicago-lobbyist-data_lobbyist-data-lobbying-activity.csv-CREATED_DATE-LOBBYIST_ID-50perc-log.png\nkagglefiles_chicago_chicago-lobbyist-data_lobbyist-data-lobbying-activity.csv-CREATED_DATE-LOBBYIST_ID-50perc-nonlog.png\nkagglefiles_chicago_chicago-sidewalk-cafe-permits_sidewalk-cafe-permits.csv-ISSUED-DATE-PERMIT-NUMBER-100perc-log.png\nkagglefiles_chicago_chicago-sidewalk-cafe-permits_sidewalk-cafe-permits.csv-ISSUED-DATE-PERMIT-NUMBER-100perc-nonlog.png\nkagglefiles_chicago_chicago-sidewalk-cafe-permits_sidewalk-cafe-permits.csv-ISSUED-DATE-PERMIT-NUMBER-25perc-log.png\nkagglefiles_chicago_chicago-sidewalk-cafe-permits_sidewalk-cafe-permits.csv-ISSUED-DATE-PERMIT-NUMBER-25perc-nonlog.png\nkagglefiles_chicago_chicago-sidewalk-cafe-permits_sidewalk-cafe-permits.csv-ISSUED-DATE-PERMIT-NUMBER-50perc-log.png\nkagglefiles_chicago_chicago-sidewalk-cafe-permits_sidewalk-cafe-permits.csv-ISSUED-DATE-PERMIT-NUMBER-50perc-nonlog.png\nkagglefiles_cityofLA_los-angeles-metro-bike-share-trip-data_metro-bike-share-trip-data.csv-End-Time-Trip-ID-100perc-log.png\nkagglefiles_cityofLA_los-angeles-metro-bike-share-trip-data_metro-bike-share-trip-data.csv-End-Time-Trip-ID-100perc-nonlog.png\nkagglefiles_cityofLA_los-angeles-metro-bike-share-trip-data_metro-bike-share-trip-data.csv-End-Time-Trip-ID-25perc-log.png\nkagglefiles_cityofLA_los-angeles-metro-bike-share-trip-data_metro-bike-share-trip-data.csv-End-Time-Trip-ID-25perc-nonlog.png\nkagglefiles_cityofLA_los-angeles-metro-bike-share-trip-data_metro-bike-share-trip-data.csv-End-Time-Trip-ID-50perc-log.png\nkagglefiles_cityofLA_los-angeles-metro-bike-share-trip-data_metro-bike-share-trip-data.csv-End-Time-Trip-ID-50perc-nonlog.png\nkagglefiles_cityofLA_los-angeles-metro-bike-share-trip-data_metro-bike-share-trip-data.csv-Start-Time-Trip-ID-100perc-log.png\nkagglefiles_cityofLA_los-angeles-metro-bike-share-trip-data_metro-bike-share-trip-data.csv-Start-Time-Trip-ID-100perc-nonlog.png\nkagglefiles_cityofLA_los-angeles-metro-bike-share-trip-data_metro-bike-share-trip-data.csv-Start-Time-Trip-ID-25perc-log.png\nkagglefiles_cityofLA_los-angeles-metro-bike-share-trip-data_metro-bike-share-trip-data.csv-Start-Time-Trip-ID-25perc-nonlog.png\nkagglefiles_cityofLA_los-angeles-metro-bike-share-trip-data_metro-bike-share-trip-data.csv-Start-Time-Trip-ID-50perc-log.png\nkagglefiles_cityofLA_los-angeles-metro-bike-share-trip-data_metro-bike-share-trip-data.csv-Start-Time-Trip-ID-50perc-nonlog.png\nkagglefiles_cityofoakland_oakland-call-center-public-work-service-requests_service-requests-received-by-public-works.csv-DATETIMEINIT-REQUESTID-25perc-log.png\nkagglefiles_cityofoakland_oakland-call-center-public-work-service-requests_service-requests-received-by-public-works.csv-DATETIMEINIT-REQUESTID-25perc-nonlog.png\nkagglefiles_cityofoakland_oakland-call-center-public-work-service-requests_service-requests-received-by-the-oakland-call-center.csv-DATETIMEINIT-REQUESTID-25perc-log.png\nkagglefiles_cityofoakland_oakland-call-center-public-work-service-requests_service-requests-received-by-the-oakland-call-center.csv-DATETIMEINIT-REQUESTID-25perc-nonlog.png\nkagglefiles_cityofoakland_oakland-call-center-public-work-service-requests_service-requests-received-by-the-oakland-call-center.csv-DATETIMEINIT-REQUESTID-50perc-log.png\nkagglefiles_cityofoakland_oakland-call-center-public-work-service-requests_service-requests-received-by-the-oakland-call-center.csv-DATETIMEINIT-REQUESTID-50perc-nonlog.png\nkagglefiles_new-york-city_ny-bus-breakdown-and-delays_bus-breakdown-and-delays.csv-Created_On-Busbreakdown_ID-100perc-log.png\nkagglefiles_new-york-city_ny-bus-breakdown-and-delays_bus-breakdown-and-delays.csv-Created_On-Busbreakdown_ID-100perc-nonlog.png\nkagglefiles_new-york-city_ny-bus-breakdown-and-delays_bus-breakdown-and-delays.csv-Created_On-Busbreakdown_ID-25perc-log.png\nkagglefiles_new-york-city_ny-bus-breakdown-and-delays_bus-breakdown-and-delays.csv-Created_On-Busbreakdown_ID-25perc-nonlog.png\nkagglefiles_new-york-city_ny-bus-breakdown-and-delays_bus-breakdown-and-delays.csv-Created_On-Busbreakdown_ID-50perc-log.png\nkagglefiles_new-york-city_ny-bus-breakdown-and-delays_bus-breakdown-and-delays.csv-Created_On-Busbreakdown_ID-50perc-nonlog.png\nkagglefiles_pablote_nba-enhanced-stats_2017-18_standings.csv-stDate-opptGmWon-100perc-log.png\nkagglefiles_pablote_nba-enhanced-stats_2017-18_standings.csv-stDate-opptGmWon-100perc-nonlog.png\nkagglefiles_pablote_nba-enhanced-stats_2017-18_standings.csv-stDate-opptGmWon-25perc-log.png\nkagglefiles_pablote_nba-enhanced-stats_2017-18_standings.csv-stDate-opptGmWon-25perc-nonlog.png\nkagglefiles_pablote_nba-enhanced-stats_2017-18_standings.csv-stDate-opptGmWon-50perc-log.png\nkagglefiles_pablote_nba-enhanced-stats_2017-18_standings.csv-stDate-opptGmWon-50perc-nonlog.png\nkagglefiles_pablote_nba-enhanced-stats_2017-18_standings.csv-stDate-opptOpptGmPlay-100perc-log.png\nkagglefiles_pablote_nba-enhanced-stats_2017-18_standings.csv-stDate-opptOpptGmPlay-100perc-nonlog.png\nkagglefiles_pablote_nba-enhanced-stats_2017-18_standings.csv-stDate-opptOpptGmPlay-25perc-log.png\nkagglefiles_pablote_nba-enhanced-stats_2017-18_standings.csv-stDate-opptOpptGmPlay-25perc-nonlog.png\nkagglefiles_pablote_nba-enhanced-stats_2017-18_standings.csv-stDate-opptOpptGmPlay-50perc-log.png\nkagglefiles_pablote_nba-enhanced-stats_2017-18_standings.csv-stDate-opptOpptGmPlay-50perc-nonlog.png\nkagglefiles_pablote_nba-enhanced-stats_2017-18_standings.csv-stDate-opptOpptGmWon-100perc-log.png\nkagglefiles_pablote_nba-enhanced-stats_2017-18_standings.csv-stDate-opptOpptGmWon-100perc-nonlog.png\nkagglefiles_pablote_nba-enhanced-stats_2017-18_standings.csv-stDate-opptOpptGmWon-25perc-log.png\nkagglefiles_pablote_nba-enhanced-stats_2017-18_standings.csv-stDate-opptOpptGmWon-25perc-nonlog.png\nkagglefiles_pablote_nba-enhanced-stats_2017-18_standings.csv-stDate-opptOpptGmWon-50perc-log.png\nkagglefiles_pablote_nba-enhanced-stats_2017-18_standings.csv-stDate-opptOpptGmWon-50perc-nonlog.png\nkagglefiles_pschale_mlb-pitch-data-20152018_ejections.csv-date-ab_id-100perc-log.png\nkagglefiles_pschale_mlb-pitch-data-20152018_ejections.csv-date-ab_id-100perc-nonlog.png\nkagglefiles_pschale_mlb-pitch-data-20152018_ejections.csv-date-ab_id-25perc-log.png\nkagglefiles_pschale_mlb-pitch-data-20152018_ejections.csv-date-ab_id-25perc-nonlog.png\nkagglefiles_pschale_mlb-pitch-data-20152018_ejections.csv-date-ab_id-50perc-log.png\nkagglefiles_pschale_mlb-pitch-data-20152018_ejections.csv-date-ab_id-50perc-nonlog.png\nkagglefiles_pschale_mlb-pitch-data-20152018_ejections.csv-date-g_id-100perc-log.png\nkagglefiles_pschale_mlb-pitch-data-20152018_ejections.csv-date-g_id-100perc-nonlog.png\nkagglefiles_pschale_mlb-pitch-data-20152018_ejections.csv-date-g_id-25perc-log.png\nkagglefiles_pschale_mlb-pitch-data-20152018_ejections.csv-date-g_id-25perc-nonlog.png\nkagglefiles_pschale_mlb-pitch-data-20152018_ejections.csv-date-g_id-50perc-log.png\nkagglefiles_pschale_mlb-pitch-data-20152018_ejections.csv-date-g_id-50perc-nonlog.png\nkagglefiles_pschale_mlb-pitch-data-20152018_games.csv-date-g_id-100perc-log.png\nkagglefiles_pschale_mlb-pitch-data-20152018_games.csv-date-g_id-100perc-nonlog.png\nkagglefiles_pschale_mlb-pitch-data-20152018_games.csv-date-g_id-25perc-log.png\nkagglefiles_pschale_mlb-pitch-data-20152018_games.csv-date-g_id-25perc-nonlog.png\nkagglefiles_pschale_mlb-pitch-data-20152018_games.csv-date-g_id-50perc-log.png\nkagglefiles_pschale_mlb-pitch-data-20152018_games.csv-date-g_id-50perc-nonlog.png\nkagglefiles_szrlee_stock-time-series-20050101-to-20171231_AMZN_2006-01-01_to_2018-01-01.csv-Date-Close-100perc-log.png\nkagglefiles_szrlee_stock-time-series-20050101-to-20171231_AMZN_2006-01-01_to_2018-01-01.csv-Date-Close-100perc-nonlog.png\nkagglefiles_szrlee_stock-time-series-20050101-to-20171231_AMZN_2006-01-01_to_2018-01-01.csv-Date-Close-25perc-log.png\nkagglefiles_szrlee_stock-time-series-20050101-to-20171231_AMZN_2006-01-01_to_2018-01-01.csv-Date-Close-25perc-nonlog.png\nkagglefiles_szrlee_stock-time-series-20050101-to-20171231_AMZN_2006-01-01_to_2018-01-01.csv-Date-Close-50perc-log.png\nkagglefiles_szrlee_stock-time-series-20050101-to-20171231_AMZN_2006-01-01_to_2018-01-01.csv-Date-Close-50perc-nonlog.png\nkagglefiles_szrlee_stock-time-series-20050101-to-20171231_GOOGL_2006-01-01_to_2018-01-01.csv-Date-Close-100perc-log.png\nkagglefiles_szrlee_stock-time-series-20050101-to-20171231_GOOGL_2006-01-01_to_2018-01-01.csv-Date-Close-100perc-nonlog.png\nkagglefiles_szrlee_stock-time-series-20050101-to-20171231_GOOGL_2006-01-01_to_2018-01-01.csv-Date-Close-25perc-log.png\nkagglefiles_szrlee_stock-time-series-20050101-to-20171231_GOOGL_2006-01-01_to_2018-01-01.csv-Date-Close-25perc-nonlog.png\nkagglefiles_szrlee_stock-time-series-20050101-to-20171231_GOOGL_2006-01-01_to_2018-01-01.csv-Date-Close-50perc-log.png\nkagglefiles_szrlee_stock-time-series-20050101-to-20171231_GOOGL_2006-01-01_to_2018-01-01.csv-Date-Close-50perc-nonlog.png\nkagglefiles_szrlee_stock-time-series-20050101-to-20171231_UNH_2006-01-01_to_2018-01-01.csv-Date-Close-25perc-log.png\nkagglefiles_szrlee_stock-time-series-20050101-to-20171231_UNH_2006-01-01_to_2018-01-01.csv-Date-Close-25perc-nonlog.png\nkagglefiles_szrlee_stock-time-series-20050101-to-20171231_UNH_2006-01-01_to_2018-01-01.csv-Date-Close-50perc-log.png\nkagglefiles_szrlee_stock-time-series-20050101-to-20171231_UNH_2006-01-01_to_2018-01-01.csv-Date-Close-50perc-nonlog.png\nkagglefiles_szrlee_stock-time-series-20050101-to-20171231_UTX_2006-01-01_to_2018-01-01.csv-Date-Close-100perc-log.png\nkagglefiles_szrlee_stock-time-series-20050101-to-20171231_UTX_2006-01-01_to_2018-01-01.csv-Date-Close-100perc-nonlog.png\nkagglefiles_yingwurenjian_chicago-divvy-bicycle-sharing-data_data_raw.csv-stoptime-trip_id-100perc-log.png\nkagglefiles_yingwurenjian_chicago-divvy-bicycle-sharing-data_data_raw.csv-stoptime-trip_id-100perc-nonlog.png\nkagglefiles_yingwurenjian_chicago-divvy-bicycle-sharing-data_data_raw.csv-stoptime-trip_id-25perc-log.png\nkagglefiles_yingwurenjian_chicago-divvy-bicycle-sharing-data_data_raw.csv-stoptime-trip_id-25perc-nonlog.png\nkagglefiles_yingwurenjian_chicago-divvy-bicycle-sharing-data_data_raw.csv-stoptime-trip_id-50perc-log.png\nkagglefiles_yingwurenjian_chicago-divvy-bicycle-sharing-data_data_raw.csv-stoptime-trip_id-50perc-nonlog.png\n"
    },
    {
     "data": {
      "text/plain": "['myanimelist',\n 'total-construction-spending-data-collection',\n 'total-merchant-wholesalers-inventory-and-sales',\n 'chicago-lobbyist-data',\n 'chicago-sidewalk-cafe-permits',\n 'los-angeles-metro-bike-share-trip-data',\n 'oakland-call-center-public-work-service-requests',\n 'ny-bus-breakdown-and-delays',\n 'nba-enhanced-stats',\n 'mlb-pitch-data-20152018',\n 'stock-time-series-20050101-to-20171231',\n 'chicago-divvy-bicycle-sharing-data']"
     },
     "execution_count": 1,
     "metadata": {},
     "output_type": "execute_result"
    }
   ],
   "source": [
    "###get a list of all authors to convert (in the selected folder)\n",
    "from os import listdir\n",
    "path='selected'\n",
    "folderlist=[]\n",
    "authorlist=[]\n",
    "for filename in listdir(path):\n",
    "\n",
    "    print(filename)\n",
    "    authorname=filename.split('_')[1]\n",
    "    foldername=filename.split('_')[2]\n",
    "    if not foldername in folderlist:\n",
    "        folderlist.append(foldername)\n",
    "    if not authorname in authorlist: authorlist.append(authorname)\n",
    "\n",
    "folderlist"
   ]
  },
  {
   "cell_type": "code",
   "execution_count": 17,
   "metadata": {},
   "outputs": [
    {
     "data": {
      "text/plain": "['azathoth42',\n 'census',\n 'chicago',\n 'cityofLA',\n 'cityofoakland',\n 'new-york-city',\n 'pablote',\n 'pschale',\n 'szrlee',\n 'yingwurenjian']"
     },
     "execution_count": 17,
     "metadata": {},
     "output_type": "execute_result"
    }
   ],
   "source": [
    "authorlist"
   ]
  },
  {
   "cell_type": "code",
   "execution_count": null,
   "metadata": {},
   "outputs": [],
   "source": []
  },
  {
   "cell_type": "code",
   "execution_count": 4,
   "metadata": {},
   "outputs": [
    {
     "name": "stdout",
     "output_type": "stream",
     "text": "9772    3.317837e-08\n9707    3.329478e-08\n9791    3.329478e-08\n9698    3.329478e-08\nName: date_days_since_first_date, Length: 2494, dtype: float64\n236     2.502929e-08\n213     2.502929e-08\n262     2.502929e-08\n309     2.502929e-08\n289     2.502929e-08\n            ...     \n9550    3.317837e-08\n9772    3.317837e-08\n9707    3.329478e-08\n9791    3.329478e-08\n9698    3.329478e-08\nName: date_days_since_first_date, Length: 2494, dtype: float64\n236     2.502929e-08\n213     2.502929e-08\n262     2.502929e-08\n309     2.502929e-08\n289     2.502929e-08\n            ...     \n9550    3.317837e-08\n9772    3.317837e-08\n9707    3.329478e-08\n9791    3.329478e-08\n9698    3.329478e-08\nName: date_days_since_first_date, Length: 2494, dtype: float64\n213     2.502929e-08\n432     2.502929e-08\n237     2.502929e-08\n289     2.502929e-08\n236     2.502929e-08\n            ...     \n9550    3.317837e-08\n9772    3.329478e-08\n9707    3.329478e-08\n9698    3.329478e-08\n9791    3.329478e-08\nName: date_days_since_first_date, Length: 2512, dtype: float64\n213     2.502929e-08\n432     2.502929e-08\n237     2.502929e-08\n289     2.502929e-08\n236     2.502929e-08\n            ...     \n9550    3.317837e-08\n9772    3.329478e-08\n9707    3.329478e-08\n9698    3.329478e-08\n9791    3.329478e-08\nName: date_days_since_first_date, Length: 2512, dtype: float64\n213     2.502929e-08\n432     2.502929e-08\n237     2.502929e-08\n289     2.502929e-08\n236     2.502929e-08\n            ...     \n9550    3.317837e-08\n9772    3.329478e-08\n9707    3.329478e-08\n9698    3.329478e-08\n9791    3.329478e-08\nName: date_days_since_first_date, Length: 2512, dtype: float64\n213     2.502929e-08\n432     2.502929e-08\n237     2.502929e-08\n289     2.502929e-08\n236     2.502929e-08\n            ...     \n9550    3.317837e-08\n9772    3.329478e-08\n9707    3.329478e-08\n9698    3.329478e-08\n9791    3.329478e-08\nName: date_days_since_first_date, Length: 2512, dtype: float64\n213     2.502929e-08\n432     2.502929e-08\n237     2.502929e-08\n289     2.502929e-08\n236     2.502929e-08\n            ...     \n9550    3.317837e-08\n9772    3.329478e-08\n9707    3.329478e-08\n9698    3.329478e-08\n9791    3.329478e-08\nName: date_days_since_first_date, Length: 2512, dtype: float64\n213     2.502929e-08\n432     2.502929e-08\n237     2.502929e-08\n289     2.502929e-08\n236     2.502929e-08\n            ...     \n9550    3.317837e-08\n9772    3.329478e-08\n9707    3.329478e-08\n9698    3.329478e-08\n9791    3.329478e-08\nName: date_days_since_first_date, Length: 2512, dtype: float64\n213     2.502929e-08\n432     2.502929e-08\n237     2.502929e-08\n289     2.502929e-08\n236     2.502929e-08\n            ...     \n9550    3.317837e-08\n9772    3.329478e-08\n9707    3.329478e-08\n9698    3.329478e-08\n9791    3.329478e-08\nName: date_days_since_first_date, Length: 2512, dtype: float64\n213     2.502929e-08\n432     2.502929e-08\n237     2.502929e-08\n289     2.502929e-08\n236     2.502929e-08\n            ...     \n9550    3.317837e-08\n9772    3.329478e-08\n9707    3.329478e-08\n9698    3.329478e-08\n9791    3.329478e-08\nName: date_days_since_first_date, Length: 2512, dtype: float64\n213     2.502929e-08\n432     2.502929e-08\n237     2.502929e-08\n289     2.502929e-08\n236     2.502929e-08\n            ...     \n9550    3.317837e-08\n9772    3.329478e-08\n9707    3.329478e-08\n9698    3.329478e-08\n9791    3.329478e-08\nName: date_days_since_first_date, Length: 2512, dtype: float64\n213     2.502929e-08\n432     2.502929e-08\n237     2.502929e-08\n289     2.502929e-08\n236     2.502929e-08\n            ...     \n9550    3.317837e-08\n9772    3.329478e-08\n9707    3.329478e-08\n9698    3.329478e-08\n9791    3.329478e-08\nName: date_days_since_first_date, Length: 2512, dtype: float64\n213     2.502929e-08\n432     2.502929e-08\n237     2.502929e-08\n289     2.502929e-08\n236     2.502929e-08\n            ...     \n9550    3.317837e-08\n9772    3.329478e-08\n9707    3.329478e-08\n9698    3.329478e-08\n9791    3.329478e-08\nName: date_days_since_first_date, Length: 2512, dtype: float64\n213     2.502929e-08\n432     2.502929e-08\n237     2.502929e-08\n289     2.502929e-08\n236     2.502929e-08\n            ...     \n9550    3.317837e-08\n9772    3.329478e-08\n9707    3.329478e-08\n9698    3.329478e-08\n9791    3.329478e-08\nName: date_days_since_first_date, Length: 2512, dtype: float64\n213     2.502929e-08\n432     2.502929e-08\n237     2.502929e-08\n289     2.502929e-08\n236     2.502929e-08\n            ...     \n9550    3.317837e-08\n9772    3.329478e-08\n9707    3.329478e-08\n9698    3.329478e-08\n9791    3.329478e-08\nName: date_days_since_first_date, Length: 2512, dtype: float64\n213     2.502929e-08\n432     2.502929e-08\n237     2.502929e-08\n289     2.502929e-08\n236     2.502929e-08\n            ...     \n9550    3.317837e-08\n9772    3.329478e-08\n9707    3.329478e-08\n9698    3.329478e-08\n9791    3.329478e-08\nName: date_days_since_first_date, Length: 2512, dtype: float64\n213     2.502929e-08\n432     2.502929e-08\n237     2.502929e-08\n289     2.502929e-08\n236     2.502929e-08\n            ...     \n9550    3.317837e-08\n9772    3.329478e-08\n9707    3.329478e-08\n9698    3.329478e-08\n9791    3.329478e-08\nName: date_days_since_first_date, Length: 2512, dtype: float64\n5007    7.454073e-07\n376     7.454073e-07\n5780    7.454073e-07\n1370    7.454073e-07\n2068    7.454073e-07\n            ...     \n9376    9.934884e-07\n9431    9.936048e-07\n9679    9.937212e-07\n9637    9.937212e-07\n9547    9.937212e-07\nName: date_days_since_first_date, Length: 3659, dtype: float64\n5007    7.454073e-07\n376     7.454073e-07\n5780    7.454073e-07\n1370    7.454073e-07\n2068    7.454073e-07\n            ...     \n9376    9.934884e-07\n9431    9.936048e-07\n9679    9.937212e-07\n9637    9.937212e-07\n9547    9.937212e-07\nName: date_days_since_first_date, Length: 3659, dtype: float64\n5007    7.454073e-07\n376     7.454073e-07\n5780    7.454073e-07\n1370    7.454073e-07\n2068    7.454073e-07\n            ...     \n9376    9.934884e-07\n9431    9.936048e-07\n9679    9.937212e-07\n9637    9.937212e-07\n9547    9.937212e-07\nName: date_days_since_first_date, Length: 3659, dtype: float64\n5007    7.454073e-07\n376     7.454073e-07\n5780    7.454073e-07\n1370    7.454073e-07\n2068    7.454073e-07\n            ...     \n9376    9.934884e-07\n9431    9.936048e-07\n9679    9.937212e-07\n9637    9.937212e-07\n9547    9.937212e-07\nName: date_days_since_first_date, Length: 3659, dtype: float64\n5007    7.454073e-07\n376     7.454073e-07\n5780    7.454073e-07\n1370    7.454073e-07\n2068    7.454073e-07\n            ...     \n9376    9.934884e-07\n9431    9.936048e-07\n9679    9.937212e-07\n9637    9.937212e-07\n9547    9.937212e-07\nName: date_days_since_first_date, Length: 3659, dtype: float64\n5007    7.454073e-07\n376     7.454073e-07\n5780    7.454073e-07\n1370    7.454073e-07\n2068    7.454073e-07\n            ...     \n9376    9.934884e-07\n9431    9.936048e-07\n9679    9.937212e-07\n9637    9.937212e-07\n9547    9.937212e-07\nName: date_days_since_first_date, Length: 3659, dtype: float64\n5007    7.454073e-07\n376     7.454073e-07\n5780    7.454073e-07\n1370    7.454073e-07\n2068    7.454073e-07\n            ...     \n9376    9.934884e-07\n9431    9.936048e-07\n9679    9.937212e-07\n9637    9.937212e-07\n9547    9.937212e-07\nName: date_days_since_first_date, Length: 3659, dtype: float64\n5007    7.454073e-07\n376     7.454073e-07\n5780    7.454073e-07\n1370    7.454073e-07\n2068    7.454073e-07\n            ...     \n9376    9.934884e-07\n9431    9.936048e-07\n9679    9.937212e-07\n9637    9.937212e-07\n9547    9.937212e-07\nName: date_days_since_first_date, Length: 3659, dtype: float64\n5007    7.454073e-07\n376     7.454073e-07\n5780    7.454073e-07\n1370    7.454073e-07\n2068    7.454073e-07\n            ...     \n9376    9.934884e-07\n9431    9.936048e-07\n9679    9.937212e-07\n9637    9.937212e-07\n9547    9.937212e-07\nName: date_days_since_first_date, Length: 3659, dtype: float64\n5007    7.454073e-07\n376     7.454073e-07\n5780    7.454073e-07\n1370    7.454073e-07\n2068    7.454073e-07\n            ...     \n9376    9.934884e-07\n9431    9.936048e-07\n9679    9.937212e-07\n9637    9.937212e-07\n9547    9.937212e-07\nName: date_days_since_first_date, Length: 3659, dtype: float64\n5007    7.454073e-07\n376     7.454073e-07\n5780    7.454073e-07\n1370    7.454073e-07\n2068    7.454073e-07\n            ...     \n9376    9.934884e-07\n9431    9.936048e-07\n9679    9.937212e-07\n9637    9.937212e-07\n9547    9.937212e-07\nName: date_days_since_first_date, Length: 3659, dtype: float64\n5007    7.454073e-07\n376     7.454073e-07\n5780    7.454073e-07\n1370    7.454073e-07\n2068    7.454073e-07\n            ...     \n9376    9.934884e-07\n9431    9.936048e-07\n9679    9.937212e-07\n9637    9.937212e-07\n9547    9.937212e-07\nName: date_days_since_first_date, Length: 3659, dtype: float64\n5007    7.454073e-07\n376     7.454073e-07\n5780    7.454073e-07\n1370    7.454073e-07\n2068    7.454073e-07\n            ...     \n9376    9.934884e-07\n9431    9.936048e-07\n9679    9.937212e-07\n9637    9.937212e-07\n9547    9.937212e-07\nName: date_days_since_first_date, Length: 3659, dtype: float64\n5007    7.454073e-07\n376     7.454073e-07\n5780    7.454073e-07\n1370    7.454073e-07\n2068    7.454073e-07\n            ...     \n9376    9.934884e-07\n9431    9.936048e-07\n9679    9.937212e-07\n9637    9.937212e-07\n9547    9.937212e-07\nName: date_days_since_first_date, Length: 3659, dtype: float64\n5007    7.454073e-07\n376     7.454073e-07\n5780    7.454073e-07\n1370    7.454073e-07\n2068    7.454073e-07\n            ...     \n9376    9.934884e-07\n9431    9.936048e-07\n9679    9.937212e-07\n9637    9.937212e-07\n9547    9.937212e-07\nName: date_days_since_first_date, Length: 3659, dtype: float64\n#Computing:kagglefiles\\aashita\\nyt-comments\\CommentsFeb2017.csv\n# Encoding Detection: UTF-8 (confidence:0.9900000095367432)\n-> Encoding:UTF-8\ntrying , | \"\n24      2.328306e-10\n44      2.328306e-10\n70      2.328306e-10\n69      2.328306e-10\n7575    3.492460e-10\n            ...     \n8743    3.514579e-07\n90      3.613532e-07\n2161    3.788155e-07\n8017    3.833557e-07\n3923    3.887108e-07\nName: date_days_since_first_date, Length: 9724, dtype: float64\n24      2.328306e-10\n44      2.328306e-10\n70      2.328306e-10\n69      2.328306e-10\n7575    3.492460e-10\n            ...     \n8743    3.514579e-07\n90      3.613532e-07\n2161    3.788155e-07\n8017    3.833557e-07\n3923    3.887108e-07\nName: date_days_since_first_date, Length: 9724, dtype: float64\n24      2.328306e-10\n44      2.328306e-10\n70      2.328306e-10\n69      2.328306e-10\n7575    3.492460e-10\n            ...     \n8743    3.514579e-07\n90      3.613532e-07\n2161    3.788155e-07\n8017    3.833557e-07\n3923    3.887108e-07\nName: date_days_since_first_date, Length: 9724, dtype: float64\n24      2.328306e-10\n44      2.328306e-10\n70      2.328306e-10\n69      2.328306e-10\n7575    3.492460e-10\n            ...     \n8743    3.514579e-07\n90      3.613532e-07\n2161    3.788155e-07\n8017    3.833557e-07\n3923    3.887108e-07\nName: date_days_since_first_date, Length: 9724, dtype: float64\n24      2.328306e-10\n44      2.328306e-10\n70      2.328306e-10\n69      2.328306e-10\n7575    3.492460e-10\n            ...     \n8743    3.514579e-07\n90      3.613532e-07\n2161    3.788155e-07\n8017    3.833557e-07\n3923    3.887108e-07\nName: date_days_since_first_date, Length: 9724, dtype: float64\n24      2.328306e-10\n44      2.328306e-10\n70      2.328306e-10\n69      2.328306e-10\n7575    3.492460e-10\n            ...     \n8743    3.514579e-07\n90      3.613532e-07\n2161    3.788155e-07\n8017    3.833557e-07\n3923    3.887108e-07\nName: date_days_since_first_date, Length: 9724, dtype: float64\n24      2.328306e-10\n44      2.328306e-10\n70      2.328306e-10\n69      2.328306e-10\n7575    3.492460e-10\n            ...     \n8743    3.514579e-07\n90      3.613532e-07\n2161    3.788155e-07\n8017    3.833557e-07\n3923    3.887108e-07\nName: date_days_since_first_date, Length: 9724, dtype: float64\n24      2.328306e-10\n44      2.328306e-10\n70      2.328306e-10\n69      2.328306e-10\n7575    3.492460e-10\n            ...     \n8743    3.514579e-07\n90      3.613532e-07\n2161    3.788155e-07\n8017    3.833557e-07\n3923    3.887108e-07\nName: date_days_since_first_date, Length: 9724, dtype: float64\n24      2.328306e-10\n44      2.328306e-10\n70      2.328306e-10\n69      2.328306e-10\n7575    3.492460e-10\n            ...     \n8743    3.514579e-07\n90      3.613532e-07\n2161    3.788155e-07\n8017    3.833557e-07\n3923    3.887108e-07\nName: date_days_since_first_date, Length: 9724, dtype: float64\n24      2.328306e-10\n44      2.328306e-10\n70      2.328306e-10\n69      2.328306e-10\n7575    3.492460e-10\n            ...     \n8743    3.514579e-07\n90      3.613532e-07\n2161    3.788155e-07\n8017    3.833557e-07\n3923    3.887108e-07\nName: date_days_since_first_date, Length: 9724, dtype: float64\n24      2.328306e-10\n44      2.328306e-10\n70      2.328306e-10\n69      2.328306e-10\n7575    3.492460e-10\n            ...     \n8743    3.514579e-07\n90      3.613532e-07\n2161    3.788155e-07\n8017    3.833557e-07\n3923    3.887108e-07\nName: date_days_since_first_date, Length: 9724, dtype: float64\n24      2.328306e-10\n44      2.328306e-10\n70      2.328306e-10\n69      2.328306e-10\n7575    3.492460e-10\n            ...     \n8743    3.514579e-07\n90      3.613532e-07\n2161    3.788155e-07\n8017    3.833557e-07\n3923    3.887108e-07\nName: date_days_since_first_date, Length: 9724, dtype: float64\n24      2.328306e-10\n44      2.328306e-10\n70      2.328306e-10\n69      2.328306e-10\n7575    3.492460e-10\n            ...     \n8743    3.514579e-07\n90      3.613532e-07\n2161    3.788155e-07\n8017    3.833557e-07\n3923    3.887108e-07\nName: date_days_since_first_date, Length: 9724, dtype: float64\n24      2.328306e-10\n44      2.328306e-10\n70      2.328306e-10\n69      2.328306e-10\n7575    3.492460e-10\n            ...     \n8743    3.514579e-07\n90      3.613532e-07\n2161    3.788155e-07\n8017    3.833557e-07\n3923    3.887108e-07\nName: date_days_since_first_date, Length: 9724, dtype: float64\n24      2.328306e-10\n44      2.328306e-10\n70      2.328306e-10\n69      2.328306e-10\n7575    3.492460e-10\n            ...     \n8743    3.514579e-07\n90      3.613532e-07\n2161    3.788155e-07\n8017    3.833557e-07\n3923    3.887108e-07\nName: date_days_since_first_date, Length: 9724, dtype: float64\n24      2.328306e-10\n44      2.328306e-10\n70      2.328306e-10\n69      2.328306e-10\n7575    3.492460e-10\n            ...     \n8743    3.514579e-07\n90      3.613532e-07\n2161    3.788155e-07\n8017    3.833557e-07\n3923    3.887108e-07\nName: date_days_since_first_date, Length: 9724, dtype: float64\n59      1.164153e-10\n38      1.164153e-10\n7581    1.164153e-10\n5       1.164153e-10\n34      1.164153e-10\n            ...     \n2161    4.831236e-08\n8743    4.912727e-08\n90      5.087350e-08\n8017    5.436596e-08\n3923    5.518086e-08\nName: date_days_since_first_date, Length: 9696, dtype: float64\n59      1.164153e-10\n38      1.164153e-10\n7581    1.164153e-10\n5       1.164153e-10\n34      1.164153e-10\n            ...     \n2161    4.831236e-08\n8743    4.912727e-08\n90      5.087350e-08\n8017    5.436596e-08\n3923    5.518086e-08\nName: date_days_since_first_date, Length: 9696, dtype: float64\n59      1.164153e-10\n38      1.164153e-10\n7581    1.164153e-10\n5       1.164153e-10\n34      1.164153e-10\n            ...     \n2161    4.831236e-08\n8743    4.912727e-08\n90      5.087350e-08\n8017    5.436596e-08\n3923    5.518086e-08\nName: date_days_since_first_date, Length: 9696, dtype: float64\n59      1.164153e-10\n38      1.164153e-10\n7581    1.164153e-10\n5       1.164153e-10\n34      1.164153e-10\n            ...     \n2161    4.831236e-08\n8743    4.912727e-08\n90      5.087350e-08\n8017    5.436596e-08\n3923    5.518086e-08\nName: date_days_since_first_date, Length: 9696, dtype: float64\n59      1.164153e-10\n38      1.164153e-10\n7581    1.164153e-10\n5       1.164153e-10\n34      1.164153e-10\n            ...     \n2161    4.831236e-08\n8743    4.912727e-08\n90      5.087350e-08\n8017    5.436596e-08\n3923    5.518086e-08\nName: date_days_since_first_date, Length: 9696, dtype: float64\n59      1.164153e-10\n38      1.164153e-10\n7581    1.164153e-10\n5       1.164153e-10\n34      1.164153e-10\n            ...     \n2161    4.831236e-08\n8743    4.912727e-08\n90      5.087350e-08\n8017    5.436596e-08\n3923    5.518086e-08\nName: date_days_since_first_date, Length: 9696, dtype: float64\n59      1.164153e-10\n38      1.164153e-10\n7581    1.164153e-10\n5       1.164153e-10\n34      1.164153e-10\n            ...     \n2161    4.831236e-08\n8743    4.912727e-08\n90      5.087350e-08\n8017    5.436596e-08\n3923    5.518086e-08\nName: date_days_since_first_date, Length: 9696, dtype: float64\n59      1.164153e-10\n38      1.164153e-10\n7581    1.164153e-10\n5       1.164153e-10\n34      1.164153e-10\n            ...     \n2161    4.831236e-08\n8743    4.912727e-08\n90      5.087350e-08\n8017    5.436596e-08\n3923    5.518086e-08\nName: date_days_since_first_date, Length: 9696, dtype: float64\n59      1.164153e-10\n38      1.164153e-10\n7581    1.164153e-10\n5       1.164153e-10\n34      1.164153e-10\n            ...     \n2161    4.831236e-08\n8743    4.912727e-08\n90      5.087350e-08\n8017    5.436596e-08\n3923    5.518086e-08\nName: date_days_since_first_date, Length: 9696, dtype: float64\n59      1.164153e-10\n38      1.164153e-10\n7581    1.164153e-10\n5       1.164153e-10\n34      1.164153e-10\n            ...     \n2161    4.831236e-08\n8743    4.912727e-08\n90      5.087350e-08\n8017    5.436596e-08\n3923    5.518086e-08\nName: date_days_since_first_date, Length: 9696, dtype: float64\n59      1.164153e-10\n38      1.164153e-10\n7581    1.164153e-10\n5       1.164153e-10\n34      1.164153e-10\n            ...     \n2161    4.831236e-08\n8743    4.912727e-08\n90      5.087350e-08\n8017    5.436596e-08\n3923    5.518086e-08\nName: date_days_since_first_date, Length: 9696, dtype: float64\n59      1.164153e-10\n38      1.164153e-10\n7581    1.164153e-10\n5       1.164153e-10\n34      1.164153e-10\n            ...     \n2161    4.831236e-08\n8743    4.912727e-08\n90      5.087350e-08\n8017    5.436596e-08\n3923    5.518086e-08\nName: date_days_since_first_date, Length: 9696, dtype: float64\n59      1.164153e-10\n38      1.164153e-10\n7581    1.164153e-10\n5       1.164153e-10\n34      1.164153e-10\n            ...     \n2161    4.831236e-08\n8743    4.912727e-08\n90      5.087350e-08\n8017    5.436596e-08\n3923    5.518086e-08\nName: date_days_since_first_date, Length: 9696, dtype: float64\n59      1.164153e-10\n38      1.164153e-10\n7581    1.164153e-10\n5       1.164153e-10\n34      1.164153e-10\n            ...     \n2161    4.831236e-08\n8743    4.912727e-08\n90      5.087350e-08\n8017    5.436596e-08\n3923    5.518086e-08\nName: date_days_since_first_date, Length: 9696, dtype: float64\n59      1.164153e-10\n38      1.164153e-10\n7581    1.164153e-10\n5       1.164153e-10\n34      1.164153e-10\n            ...     \n2161    4.831236e-08\n8743    4.912727e-08\n90      5.087350e-08\n8017    5.436596e-08\n3923    5.518086e-08\nName: date_days_since_first_date, Length: 9696, dtype: float64\n59      1.164153e-10\n38      1.164153e-10\n7581    1.164153e-10\n5       1.164153e-10\n34      1.164153e-10\n            ...     \n2161    4.831236e-08\n8743    4.912727e-08\n90      5.087350e-08\n8017    5.436596e-08\n3923    5.518086e-08\nName: date_days_since_first_date, Length: 9696, dtype: float64\n59      1.164153e-10\n38      1.164153e-10\n7581    1.164153e-10\n5       1.164153e-10\n34      1.164153e-10\n            ...     \n2161    4.831236e-08\n8743    4.912727e-08\n90      5.087350e-08\n8017    5.436596e-08\n3923    5.518086e-08\nName: date_days_since_first_date, Length: 9696, dtype: float64\n59      1.164153e-10\n38      1.164153e-10\n7581    1.164153e-10\n5       1.164153e-10\n34      1.164153e-10\n            ...     \n2161    4.831236e-08\n8743    4.912727e-08\n90      5.087350e-08\n8017    5.436596e-08\n3923    5.518086e-08\nName: date_days_since_first_date, Length: 9696, dtype: float64\n59      1.164153e-10\n38      1.164153e-10\n7581    1.164153e-10\n5       1.164153e-10\n34      1.164153e-10\n            ...     \n2161    4.831236e-08\n8743    4.912727e-08\n90      5.087350e-08\n8017    5.436596e-08\n3923    5.518086e-08\nName: date_days_since_first_date, Length: 9696, dtype: float64\n"
    }
   ],
   "source": [
    "%run function.py\n",
    "global_x=[]\n",
    "from os import listdir\n",
    "from os.path import isfile,isdir, join\n",
    "import codecs\n",
    "import cchardet\n",
    "import random\n",
    "from io import StringIO\n",
    "import csv\n",
    "#import potentialfinder\n",
    "import pandas as pd\n",
    "\n",
    "\n",
    "\n",
    "\n",
    "def get_encoding(file,skiprows=0):\n",
    "    testStr = b''\n",
    "    count = 0\n",
    "    with open(file, 'rb') as x:\n",
    "        line = x.readline()\n",
    "        while line and count < 5000:  #Set based on lines you'd want to check\n",
    "            for _ in range(0,skiprows): #read in only those rows which are later used for sampling as well \n",
    "                try:\n",
    "                    next(x)\n",
    "                except StopIteration:\n",
    "                    pass\n",
    "            testStr = testStr + line\n",
    "            count = count + 1\n",
    "            line = x.readline()\n",
    "    result=cchardet.detect(testStr)\n",
    "    if result['confidence'] is None:\n",
    "        return ''\n",
    "    if result['confidence']<1:\n",
    "        print('# Encoding Detection: ' + result['encoding']+' (confidence:' + str(result['confidence'])+\")\")\n",
    "    return result['encoding']\n",
    "\n",
    "def buffered_row_count(file):\n",
    "    count = 0\n",
    "    thefile = open(file, 'rb')\n",
    "    while 1:\n",
    "        buffer = thefile.read(8192*1024)\n",
    "        if not buffer: break\n",
    "        count += buffer.count(b'\\n')\n",
    "    thefile.close(  )\n",
    "    return count\n",
    "\n",
    "def read_every_nth_row_to_byte(file,n_th):\n",
    "    ## required as pandas.read_csv with the skip function takes too much memory. \n",
    "    ## --> first load every nth row as byte --> then load this into pandas\n",
    "    with open(file, 'rb') as x:\n",
    "        byteStr = b''\n",
    "        line = x.readline()\n",
    "        #line = line.replace(b'\\n', b'')+b'\\n'\n",
    "        #print(line)\n",
    "        while line:  #Set based on lines you'd want to check\n",
    "            for _ in range(0,n_th): #read in only those rows which are later used for sampling as well \n",
    "                try:\n",
    "                    next(x)\n",
    "                except StopIteration:\n",
    "                    pass\n",
    "            byteStr = byteStr + line\n",
    "            line = x.readline()\n",
    "            #line = line.replace(b'\\n', b'')+b'\\n'\n",
    "            #print(line)\n",
    "        byteStr = byteStr + line\n",
    "    return byteStr\n",
    "\n",
    "\n",
    "def get_last_analyzed_file(analyzed_files):\n",
    "    if isfile(analyzed_files):\n",
    "        analyzed_files_obj = open(analyzed_files, \"r\")\n",
    "        allfiles=analyzed_files_obj.read().splitlines() \n",
    "        analyzed_files_obj.close()\n",
    "        \n",
    "        return allfiles[-1]\n",
    "    else:\n",
    "        return ''\n",
    "\n",
    "def update_analyzed_files(file_to_add,analyzed_files):\n",
    "    analyzed_files_obj = open(analyzed_files, \"a+\")\n",
    "    analyzed_files_obj.write(file_to_add+'\\n')\n",
    "    analyzed_files_obj.close()\n",
    "\n",
    "n_rows=10000\n",
    "\n",
    "\n",
    "\n",
    "\n",
    "path=\"kagglefiles\"\n",
    "debug=True\n",
    "analyzed_files=\"analyzed_files.txt\"\n",
    "outputtablefile='outputtable_selected.csv'\n",
    "skip_files=True\n",
    "##read list of files that have already been analyzed (delete this file to force restart analysis on all files):\n",
    "last_analyzed_file=get_last_analyzed_file(analyzed_files)\n",
    "print(\"Last analyzed File: \"+last_analyzed_file)\n",
    "\n",
    "if last_analyzed_file==\"\":\n",
    "    firstrow=True\n",
    "else:\n",
    "    firstrow=False\n",
    "    resulttable=pd.read_csv(\"outputs_selected/table/\"+outputtablefile,sep=\";\")\n",
    "    \n",
    "\n",
    "for username in listdir(path):\n",
    "    \n",
    "\n",
    "    if True:\n",
    "    #if username in authorlist:\n",
    "        if isdir(join(path, username)):\n",
    "            for datatablename in listdir(join(path, username)):\n",
    "                if True:\n",
    "                #if datatablename in folderlist:\n",
    "                    if isdir(join(path, username,datatablename)):\n",
    "                        for filename in listdir(join(path, username,datatablename)):\n",
    "                            folder_and_file=join(path,username,datatablename,filename)\n",
    "                            if isfile(folder_and_file):\n",
    "                                if filename[-3:]!='csv':\n",
    "                                    continue\n",
    "                                outputTableName=path+'_'+username+'_'+datatablename+'_'+filename\n",
    "                                if path+username+datatablename+filename==last_analyzed_file.replace('\\\\','') or last_analyzed_file=='':\n",
    "                                    skip_files=False\n",
    "                                if skip_files:\n",
    "                                    print(\"#Skipping:\"+ folder_and_file)\n",
    "                                    continue\n",
    "                                print(\"#Computing:\"+ folder_and_file)\n",
    "                                update_analyzed_files(folder_and_file,analyzed_files)\n",
    "                                try:\n",
    "                                    \n",
    "                                    num_lines = buffered_row_count(folder_and_file) #requires no encoding \n",
    "                                    if num_lines<=n_rows:\n",
    "                                        n_th=0\n",
    "                                    else:\n",
    "                                        n_th = round(num_lines/n_rows)  # every 100th line = 1% of the lines\n",
    "                                    if num_lines == 0:\n",
    "                                        print(folder_and_file + \" seems empty.\")\n",
    "                                        continue\n",
    "                                    encoding=get_encoding(folder_and_file,n_th)\n",
    "                                    print(\"-> Encoding:\"+encoding)\n",
    "                                    try:\n",
    "                                        if encoding=='':\n",
    "                                            datastr=str(read_every_nth_row_to_byte(folder_and_file,n_th))\n",
    "                                        else:\n",
    "                                            datastr=str(read_every_nth_row_to_byte(folder_and_file,n_th),encoding=encoding)\n",
    "                                    except:\n",
    "                                        print(\"Skipped because of encoding identification error.\")\n",
    "                                        continue\n",
    "                                    \n",
    "                                    \n",
    "                                    separators=[',',';','|','\\t']\n",
    "                                    quotechars=['\"',\"'\"]\n",
    "                                    worked=False\n",
    "                                    for separator in separators:\n",
    "                                        for quotechar in quotechars:\n",
    "                                            if not worked:\n",
    "                                                try:\n",
    "                                                    data=StringIO(datastr)\n",
    "                                                    print(\"trying \" + separator + \" | \" + quotechar)\n",
    "                                                    sqlDFTemp = pd.read_csv(data, sep = separator,encoding=encoding, quotechar=quotechar)#, error_bad_lines=False)\n",
    "                                                    if len(sqlDFTemp.columns)==1:\n",
    "                                                        raise ###separator has not worked out if there is only 1 column\n",
    "                                                    worked=True\n",
    "                                                except:\n",
    "                                                    try:\n",
    "                                                        data=StringIO(datastr)\n",
    "                                                        print(\"trying \" + separator + \" | \" + quotechar)\n",
    "                                                        sqlDFTemp = pd.read_csv(data, sep = None,encoding=encoding, engine = 'python', error_bad_lines=False)\n",
    "                                                        worked=True\n",
    "                                                    except:\n",
    "                                                        1==1\n",
    "                                    if worked==False:\n",
    "                                        print(\"skipped\")\n",
    "                                        raise\n",
    "                                        continue\n",
    "                                    \n",
    "                                        #sqlDFTemp=pd.read_csv(join(path,username,datatablename,filename), sep = None, engine = 'python')\n",
    "                                except UnicodeDecodeError:\n",
    "                                    print (\"Unicode Decode Error\")\n",
    "                                except:\n",
    "                                    if debug:\n",
    "                                        raise\n",
    "                                    else:\n",
    "                                        print('error parsing file: '+join(path,username,datatablename,filename))\n",
    "                                        continue\n",
    "                                \n",
    "                                for fraction in [1,0.5,0.25]:\n",
    "\n",
    "                                    #temptable=potentialfinder.find_exponents.find_exponents(sqlDFTemp,\n",
    "                                    temptable=find_exponents(sqlDFTemp,\n",
    "                                                            fractionToAnalyze=fraction,\n",
    "                                                            outputPath='outputs_selected3',\n",
    "                                                            outputTable=True,\n",
    "                                                            outputPlots=True,\n",
    "                                                            outputTablename=outputTableName,\n",
    "                                                            logToScreen=False,\n",
    "                                                            columnFillThreshold=0.5,\n",
    "                                                            exp_b_threshold=0.00000000002,\n",
    "                                                            exp_r_s_threshold=0.7,\n",
    "                                                            maxrows=n_rows,\n",
    "                                                            debug=False)\n",
    "                                    if firstrow:\n",
    "                                        resulttable=temptable\n",
    "                                        firstrow=False\n",
    "                                    else:\n",
    "                                        if not temptable is None:\n",
    "                                            resulttable=resulttable.append(temptable,ignore_index=True)\n",
    "                                            try:\n",
    "                                                resulttable.to_csv(\"outputs_selected3/table/\"+outputtablefile,sep=\";\")\n",
    "                                            except:\n",
    "                                                print(\"Writing error. Resuming.\")\n",
    "                                \n",
    "#resulttable\n",
    "    "
   ]
  },
  {
   "cell_type": "code",
   "execution_count": null,
   "metadata": {
    "ExecuteTime": {
     "end_time": "2019-08-20T16:38:05.894267Z",
     "start_time": "2019-08-20T16:38:05.887271Z"
    },
    "collapsed": true
   },
   "outputs": [],
   "source": [
    "resulttable.to_csv(\"outputs\\\\table\\\\outputtable.csv\",sep=\";\")"
   ]
  }
 ],
 "metadata": {
  "anaconda-cloud": {},
  "kernelspec": {
   "display_name": "Python 3",
   "language": "python",
   "name": "python3"
  },
  "language_info": {
   "codemirror_mode": {
    "name": "ipython",
    "version": 3
   },
   "file_extension": ".py",
   "mimetype": "text/x-python",
   "name": "python",
   "nbconvert_exporter": "python",
   "pygments_lexer": "ipython3",
   "version": "3.7.4-final"
  },
  "toc": {
   "nav_menu": {},
   "number_sections": true,
   "sideBar": true,
   "skip_h1_title": false,
   "toc_cell": false,
   "toc_position": {},
   "toc_section_display": "block",
   "toc_window_display": false
  },
  "varInspector": {
   "cols": {
    "lenName": 16,
    "lenType": 16,
    "lenVar": 40
   },
   "kernels_config": {
    "python": {
     "delete_cmd_postfix": "",
     "delete_cmd_prefix": "del ",
     "library": "var_list.py",
     "varRefreshCmd": "print(var_dic_list())"
    },
    "r": {
     "delete_cmd_postfix": ") ",
     "delete_cmd_prefix": "rm(",
     "library": "var_list.r",
     "varRefreshCmd": "cat(var_dic_list()) "
    }
   },
   "oldHeight": 589.77778,
   "position": {
    "height": "40px",
    "left": "1046px",
    "right": "20px",
    "top": "120px",
    "width": "343px"
   },
   "types_to_exclude": [
    "module",
    "function",
    "builtin_function_or_method",
    "instance",
    "_Feature"
   ],
   "varInspector_section_display": "none",
   "window_display": true
  }
 },
 "nbformat": 4,
 "nbformat_minor": 2
}