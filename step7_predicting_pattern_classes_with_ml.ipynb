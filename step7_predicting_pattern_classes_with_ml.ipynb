{
 "cells": [
  {
   "cell_type": "code",
   "execution_count": 123,
   "metadata": {},
   "outputs": [],
   "source": [
    "# Author: @Roshan Bhandari\n",
    "# Purpose: This code is used to develop ML algorithm to predict different classes of exponential fits and misfits.\n",
    "# Exp_2date: Type-4 misfit\n",
    "# Exp_fall: Type-2 misfit\n",
    "# Exp_lin: Type-3 misfit\n",
    "# Exp_nonfit: Type-1 misfit\n",
    "# Exp_used: Actual interesting patterns (includes Type-5 misfit)"
   ]
  },
  {
   "cell_type": "code",
   "execution_count": 21,
   "metadata": {},
   "outputs": [],
   "source": [
    "import numpy as np\n",
    "import pandas as pd\n",
    "from sklearn.model_selection import train_test_split\n",
    "from sklearn.neighbors import KNeighborsClassifier\n",
    "from sklearn.tree import DecisionTreeClassifier\n",
    "from sklearn.linear_model import LogisticRegression\n",
    "from sklearn.naive_bayes import MultinomialNB\n",
    "from sklearn.svm import SVC\n",
    "from sklearn.ensemble import RandomForestClassifier\n",
    "from sklearn.metrics import accuracy_score\n",
    "\n",
    "import inspect\n",
    "\n",
    "def retrieve_name(var):\n",
    "    callers_local_vars = inspect.currentframe().f_back.f_locals.items()\n",
    "    return [var_name for var_name, var_val in callers_local_vars if var_val is var][0]"
   ]
  },
  {
   "cell_type": "code",
   "execution_count": 19,
   "metadata": {},
   "outputs": [],
   "source": [
    "data = pd.read_csv('combined_csv_data.csv')\n",
    "data = data[['Exp_2date', 'Exp_fall', 'Exp_lin', 'Exp_nonfit', 'Exp_used', 'analyzed_fraction', 'delta_y', 'exp_A', 'exp_B', 'exp_r_squared','logistic_k', 'logistic_r_s']]\n",
    "data['class'] = None\n",
    "\n",
    "def classify(row):\n",
    "    if str(row['Exp_2date']).lower() == 'yes':\n",
    "        row['class'] = 'Exp_2date'\n",
    "    \n",
    "    if str(row['Exp_lin']).lower() == 'yes':\n",
    "        row['class'] = 'Exp_lin'\n",
    "    \n",
    "    if str(row['Exp_fall']).lower() == 'yes':\n",
    "        row['class'] = 'Exp_fall'\n",
    "    \n",
    "    if str(row['Exp_nonfit']).lower() == 'yes':\n",
    "        row['class'] = 'Exp_nonfit'\n",
    "    \n",
    "    if str(row['Exp_used']).lower() == 'yes':\n",
    "        row['class'] = 'Exp_used'\n",
    "        \n",
    "    return row\n",
    "\n",
    "data = data.apply(lambda row : classify(row), axis=1)\n",
    "data.head()\n",
    "\n",
    "data = data[['analyzed_fraction', 'delta_y', 'exp_A', 'exp_B', 'exp_r_squared','logistic_k', 'logistic_r_s', 'class']]"
   ]
  },
  {
   "cell_type": "code",
   "execution_count": 27,
   "metadata": {},
   "outputs": [],
   "source": [
    "# Fill Na\n",
    "data = data.fillna(0)"
   ]
  },
  {
   "cell_type": "code",
   "execution_count": 28,
   "metadata": {},
   "outputs": [
    {
     "name": "stdout",
     "output_type": "stream",
     "text": [
      "Size of X_train: (1443, 7)\n",
      "Size of X_test: (619, 7)\n",
      "Size of Y_train: (1443, 1)\n",
      "Size of Y_test: (619, 1)\n"
     ]
    }
   ],
   "source": [
    "# Train Test Split\n",
    "from sklearn.model_selection import train_test_split\n",
    "\n",
    "X_train, X_test, Y_train, Y_test = train_test_split(\n",
    "    data[['analyzed_fraction', 'delta_y', 'exp_A', 'exp_B', 'exp_r_squared','logistic_k', 'logistic_r_s']], \n",
    "    data[['class']], \n",
    "    train_size=0.7, \n",
    "    test_size=0.3, \n",
    "    random_state=42\n",
    ")\n",
    "\n",
    "\n",
    "for v in [X_train, X_test, Y_train, Y_test]:\n",
    "    print(\"Size of {}: {}\".format(retrieve_name(v), v.shape))"
   ]
  },
  {
   "cell_type": "code",
   "execution_count": 30,
   "metadata": {},
   "outputs": [
    {
     "name": "stderr",
     "output_type": "stream",
     "text": [
      "<ipython-input-30-51d22221ca15>:11: DataConversionWarning: A column-vector y was passed when a 1d array was expected. Please change the shape of y to (n_samples, ), for example using ravel().\n",
      "  model.fit(X_train, Y_train)\n",
      "<ipython-input-30-51d22221ca15>:11: DataConversionWarning: A column-vector y was passed when a 1d array was expected. Please change the shape of y to (n_samples,), for example using ravel().\n",
      "  model.fit(X_train, Y_train)\n",
      "/home/rbhanda/.conda/envs/8650env/lib/python3.8/site-packages/sklearn/utils/validation.py:760: DataConversionWarning: A column-vector y was passed when a 1d array was expected. Please change the shape of y to (n_samples, ), for example using ravel().\n",
      "  y = column_or_1d(y, warn=True)\n",
      "/home/rbhanda/.conda/envs/8650env/lib/python3.8/site-packages/sklearn/linear_model/_logistic.py:938: ConvergenceWarning: lbfgs failed to converge (status=2):\n",
      "ABNORMAL_TERMINATION_IN_LNSRCH.\n",
      "\n",
      "Increase the number of iterations (max_iter) or scale the data as shown in:\n",
      "    https://scikit-learn.org/stable/modules/preprocessing.html\n",
      "Please also refer to the documentation for alternative solver options:\n",
      "    https://scikit-learn.org/stable/modules/linear_model.html#logistic-regression\n",
      "  n_iter_i = _check_optimize_result(\n",
      "/home/rbhanda/.conda/envs/8650env/lib/python3.8/site-packages/sklearn/utils/validation.py:760: DataConversionWarning: A column-vector y was passed when a 1d array was expected. Please change the shape of y to (n_samples, ), for example using ravel().\n",
      "  y = column_or_1d(y, warn=True)\n"
     ]
    },
    {
     "name": "stdout",
     "output_type": "stream",
     "text": [
      "KNeighborsClassifier: 0.752827140549273\n",
      "RandomForestClassifier: 0.9224555735056543\n",
      "LogisticRegression: 0.014539579967689823\n",
      "SVC: 0.5169628432956381\n"
     ]
    }
   ],
   "source": [
    "models = {}\n",
    "\n",
    "models['KNeighborsClassifier'] = KNeighborsClassifier()\n",
    "models['RandomForestClassifier'] = RandomForestClassifier(n_estimators=20)\n",
    "models['LogisticRegression'] = LogisticRegression()\n",
    "# models['NaiveBayes'] = MultinomialNB()\n",
    "models['SVC'] = SVC()\n",
    "\n",
    "\n",
    "for model_name, model in models.items():\n",
    "    model.fit(X_train, Y_train)\n",
    "    target = model.predict(X_test)\n",
    "    score = accuracy_score(Y_test,target)\n",
    "    print('{}: {}'.format(model_name, score))"
   ]
  },
  {
   "cell_type": "code",
   "execution_count": 115,
   "metadata": {},
   "outputs": [],
   "source": [
    "data2 = pd.read_csv('combined_csv_data2.csv')\n",
    "data2 = data2.fillna(0)\n",
    "data_to_predict = data2[['analyzed_fraction', 'delta_y', 'exp_A', 'exp_B', 'exp_r_squared','logistic_k', 'logistic_r_s']]\n",
    "data_to_predict = data_to_predict.fillna(0)"
   ]
  },
  {
   "cell_type": "code",
   "execution_count": 116,
   "metadata": {},
   "outputs": [
    {
     "data": {
      "text/html": [
       "<div>\n",
       "<style scoped>\n",
       "    .dataframe tbody tr th:only-of-type {\n",
       "        vertical-align: middle;\n",
       "    }\n",
       "\n",
       "    .dataframe tbody tr th {\n",
       "        vertical-align: top;\n",
       "    }\n",
       "\n",
       "    .dataframe thead th {\n",
       "        text-align: right;\n",
       "    }\n",
       "</style>\n",
       "<table border=\"1\" class=\"dataframe\">\n",
       "  <thead>\n",
       "    <tr style=\"text-align: right;\">\n",
       "      <th></th>\n",
       "      <th>analyzed_fraction</th>\n",
       "      <th>delta_y</th>\n",
       "      <th>exp_A</th>\n",
       "      <th>exp_B</th>\n",
       "      <th>exp_r_squared</th>\n",
       "      <th>logistic_k</th>\n",
       "      <th>logistic_r_s</th>\n",
       "    </tr>\n",
       "  </thead>\n",
       "  <tbody>\n",
       "    <tr>\n",
       "      <th>0</th>\n",
       "      <td>0.25</td>\n",
       "      <td>1.495200e+06</td>\n",
       "      <td>0.000000</td>\n",
       "      <td>0.000000e+00</td>\n",
       "      <td>0.000000</td>\n",
       "      <td>0.0</td>\n",
       "      <td>0.0</td>\n",
       "    </tr>\n",
       "    <tr>\n",
       "      <th>1</th>\n",
       "      <td>0.25</td>\n",
       "      <td>6.590000e+00</td>\n",
       "      <td>0.000000</td>\n",
       "      <td>0.000000e+00</td>\n",
       "      <td>0.000000</td>\n",
       "      <td>0.0</td>\n",
       "      <td>0.0</td>\n",
       "    </tr>\n",
       "    <tr>\n",
       "      <th>2</th>\n",
       "      <td>0.25</td>\n",
       "      <td>6.830000e+00</td>\n",
       "      <td>0.000000</td>\n",
       "      <td>0.000000e+00</td>\n",
       "      <td>0.000000</td>\n",
       "      <td>0.0</td>\n",
       "      <td>0.0</td>\n",
       "    </tr>\n",
       "    <tr>\n",
       "      <th>3</th>\n",
       "      <td>0.25</td>\n",
       "      <td>6.840000e+00</td>\n",
       "      <td>0.000000</td>\n",
       "      <td>0.000000e+00</td>\n",
       "      <td>0.000000</td>\n",
       "      <td>0.0</td>\n",
       "      <td>0.0</td>\n",
       "    </tr>\n",
       "    <tr>\n",
       "      <th>4</th>\n",
       "      <td>0.25</td>\n",
       "      <td>6.390000e+00</td>\n",
       "      <td>0.000000</td>\n",
       "      <td>0.000000e+00</td>\n",
       "      <td>0.000000</td>\n",
       "      <td>0.0</td>\n",
       "      <td>0.0</td>\n",
       "    </tr>\n",
       "    <tr>\n",
       "      <th>...</th>\n",
       "      <td>...</td>\n",
       "      <td>...</td>\n",
       "      <td>...</td>\n",
       "      <td>...</td>\n",
       "      <td>...</td>\n",
       "      <td>...</td>\n",
       "      <td>...</td>\n",
       "    </tr>\n",
       "    <tr>\n",
       "      <th>145</th>\n",
       "      <td>1.00</td>\n",
       "      <td>4.080000e+00</td>\n",
       "      <td>22.910032</td>\n",
       "      <td>3.041701e+12</td>\n",
       "      <td>0.874885</td>\n",
       "      <td>0.0</td>\n",
       "      <td>0.0</td>\n",
       "    </tr>\n",
       "    <tr>\n",
       "      <th>146</th>\n",
       "      <td>1.00</td>\n",
       "      <td>4.320000e+00</td>\n",
       "      <td>22.957231</td>\n",
       "      <td>3.027672e+12</td>\n",
       "      <td>0.869008</td>\n",
       "      <td>0.0</td>\n",
       "      <td>0.0</td>\n",
       "    </tr>\n",
       "    <tr>\n",
       "      <th>147</th>\n",
       "      <td>1.00</td>\n",
       "      <td>4.139999e+00</td>\n",
       "      <td>22.874145</td>\n",
       "      <td>3.045098e+12</td>\n",
       "      <td>0.867472</td>\n",
       "      <td>0.0</td>\n",
       "      <td>0.0</td>\n",
       "    </tr>\n",
       "    <tr>\n",
       "      <th>148</th>\n",
       "      <td>1.00</td>\n",
       "      <td>1.723000e+03</td>\n",
       "      <td>0.000000</td>\n",
       "      <td>0.000000e+00</td>\n",
       "      <td>0.000000</td>\n",
       "      <td>0.0</td>\n",
       "      <td>0.0</td>\n",
       "    </tr>\n",
       "    <tr>\n",
       "      <th>149</th>\n",
       "      <td>1.00</td>\n",
       "      <td>3.347100e+02</td>\n",
       "      <td>0.000000</td>\n",
       "      <td>0.000000e+00</td>\n",
       "      <td>0.000000</td>\n",
       "      <td>0.0</td>\n",
       "      <td>0.0</td>\n",
       "    </tr>\n",
       "  </tbody>\n",
       "</table>\n",
       "<p>150 rows × 7 columns</p>\n",
       "</div>"
      ],
      "text/plain": [
       "     analyzed_fraction       delta_y      exp_A         exp_B  exp_r_squared  \\\n",
       "0                 0.25  1.495200e+06   0.000000  0.000000e+00       0.000000   \n",
       "1                 0.25  6.590000e+00   0.000000  0.000000e+00       0.000000   \n",
       "2                 0.25  6.830000e+00   0.000000  0.000000e+00       0.000000   \n",
       "3                 0.25  6.840000e+00   0.000000  0.000000e+00       0.000000   \n",
       "4                 0.25  6.390000e+00   0.000000  0.000000e+00       0.000000   \n",
       "..                 ...           ...        ...           ...            ...   \n",
       "145               1.00  4.080000e+00  22.910032  3.041701e+12       0.874885   \n",
       "146               1.00  4.320000e+00  22.957231  3.027672e+12       0.869008   \n",
       "147               1.00  4.139999e+00  22.874145  3.045098e+12       0.867472   \n",
       "148               1.00  1.723000e+03   0.000000  0.000000e+00       0.000000   \n",
       "149               1.00  3.347100e+02   0.000000  0.000000e+00       0.000000   \n",
       "\n",
       "     logistic_k  logistic_r_s  \n",
       "0           0.0           0.0  \n",
       "1           0.0           0.0  \n",
       "2           0.0           0.0  \n",
       "3           0.0           0.0  \n",
       "4           0.0           0.0  \n",
       "..          ...           ...  \n",
       "145         0.0           0.0  \n",
       "146         0.0           0.0  \n",
       "147         0.0           0.0  \n",
       "148         0.0           0.0  \n",
       "149         0.0           0.0  \n",
       "\n",
       "[150 rows x 7 columns]"
      ]
     },
     "execution_count": 116,
     "metadata": {},
     "output_type": "execute_result"
    }
   ],
   "source": [
    "data_to_predict.head(150)"
   ]
  },
  {
   "cell_type": "code",
   "execution_count": 117,
   "metadata": {},
   "outputs": [],
   "source": [
    "data_to_predict['exp_A'] = data_to_predict['exp_A'].astype(np.float32)\n",
    "data_to_predict['exp_B'] = data_to_predict['exp_B'].astype(np.float32)\n",
    "data_to_predict['analyzed_fraction'] = data_to_predict['analyzed_fraction'].astype(np.float32)\n",
    "data_to_predict['exp_r_squared'] = data_to_predict['exp_r_squared'].astype(np.float32)\n",
    "data_to_predict['logistic_k'] = data_to_predict['logistic_k'].astype(np.float32) \n",
    "\n",
    "\n",
    "def convert_to_float_32(data_frame):\n",
    "    columns = ['analyzed_fraction', 'delta_y', 'exp_A', 'exp_B', 'exp_r_squared','logistic_k', 'logistic_r_s']\n",
    "    for column_name in columns:\n",
    "        float_32_list = []\n",
    "        for eachdata in list(data_frame[column_name]):\n",
    "            try:\n",
    "                float_32_list.append(np.float32(eachdata))\n",
    "            except:\n",
    "                print(eachdata)\n",
    "                float_32_list.append(0) \n",
    "        data_frame[column_name] = float_32_list\n",
    "    return data_frame\n",
    "\n",
    "data_to_predict = convert_to_float_32(data_to_predict)\n"
   ]
  },
  {
   "cell_type": "code",
   "execution_count": 118,
   "metadata": {},
   "outputs": [],
   "source": [
    "def generate_data_to_classify(row):\n",
    "    row['unused'] = True\n",
    "    if row['exp_A'] or row['exp_B'] or row['exp_r_squared'] or row['logistic_k'] or row['logistic_r_s']:\n",
    "        row['unused'] = False\n",
    "    return row\n",
    "\n",
    "data_to_predict['unused'] = None\n",
    "data_to_predict = data_to_predict.apply(lambda row : generate_data_to_classify(row), axis=1)"
   ]
  },
  {
   "cell_type": "code",
   "execution_count": 85,
   "metadata": {},
   "outputs": [
    {
     "data": {
      "text/html": [
       "<div>\n",
       "<style scoped>\n",
       "    .dataframe tbody tr th:only-of-type {\n",
       "        vertical-align: middle;\n",
       "    }\n",
       "\n",
       "    .dataframe tbody tr th {\n",
       "        vertical-align: top;\n",
       "    }\n",
       "\n",
       "    .dataframe thead th {\n",
       "        text-align: right;\n",
       "    }\n",
       "</style>\n",
       "<table border=\"1\" class=\"dataframe\">\n",
       "  <thead>\n",
       "    <tr style=\"text-align: right;\">\n",
       "      <th></th>\n",
       "      <th>analyzed_fraction</th>\n",
       "      <th>delta_y</th>\n",
       "      <th>exp_A</th>\n",
       "      <th>exp_B</th>\n",
       "      <th>exp_r_squared</th>\n",
       "      <th>logistic_k</th>\n",
       "      <th>logistic_r_s</th>\n",
       "      <th>unused</th>\n",
       "    </tr>\n",
       "  </thead>\n",
       "  <tbody>\n",
       "    <tr>\n",
       "      <th>10</th>\n",
       "      <td>0.5</td>\n",
       "      <td>91.000000</td>\n",
       "      <td>12.268949</td>\n",
       "      <td>7.747151e+10</td>\n",
       "      <td>-0.888468</td>\n",
       "      <td>0.000000</td>\n",
       "      <td>0.000000</td>\n",
       "      <td>False</td>\n",
       "    </tr>\n",
       "    <tr>\n",
       "      <th>34</th>\n",
       "      <td>0.5</td>\n",
       "      <td>26.000000</td>\n",
       "      <td>1961.389404</td>\n",
       "      <td>4.317175e+10</td>\n",
       "      <td>0.999997</td>\n",
       "      <td>4.956132</td>\n",
       "      <td>0.988223</td>\n",
       "      <td>False</td>\n",
       "    </tr>\n",
       "    <tr>\n",
       "      <th>39</th>\n",
       "      <td>0.5</td>\n",
       "      <td>26.000000</td>\n",
       "      <td>1961.389404</td>\n",
       "      <td>4.317175e+10</td>\n",
       "      <td>0.999997</td>\n",
       "      <td>4.956132</td>\n",
       "      <td>0.988223</td>\n",
       "      <td>False</td>\n",
       "    </tr>\n",
       "    <tr>\n",
       "      <th>48</th>\n",
       "      <td>0.5</td>\n",
       "      <td>5.879999</td>\n",
       "      <td>25.826944</td>\n",
       "      <td>2.451864e+12</td>\n",
       "      <td>0.913951</td>\n",
       "      <td>0.000000</td>\n",
       "      <td>0.000000</td>\n",
       "      <td>False</td>\n",
       "    </tr>\n",
       "    <tr>\n",
       "      <th>49</th>\n",
       "      <td>0.5</td>\n",
       "      <td>5.620001</td>\n",
       "      <td>26.019491</td>\n",
       "      <td>2.431053e+12</td>\n",
       "      <td>0.943960</td>\n",
       "      <td>0.000000</td>\n",
       "      <td>0.000000</td>\n",
       "      <td>False</td>\n",
       "    </tr>\n",
       "  </tbody>\n",
       "</table>\n",
       "</div>"
      ],
      "text/plain": [
       "    analyzed_fraction    delta_y        exp_A         exp_B  exp_r_squared  \\\n",
       "10                0.5  91.000000    12.268949  7.747151e+10      -0.888468   \n",
       "34                0.5  26.000000  1961.389404  4.317175e+10       0.999997   \n",
       "39                0.5  26.000000  1961.389404  4.317175e+10       0.999997   \n",
       "48                0.5   5.879999    25.826944  2.451864e+12       0.913951   \n",
       "49                0.5   5.620001    26.019491  2.431053e+12       0.943960   \n",
       "\n",
       "    logistic_k  logistic_r_s  unused  \n",
       "10    0.000000      0.000000   False  \n",
       "34    4.956132      0.988223   False  \n",
       "39    4.956132      0.988223   False  \n",
       "48    0.000000      0.000000   False  \n",
       "49    0.000000      0.000000   False  "
      ]
     },
     "execution_count": 85,
     "metadata": {},
     "output_type": "execute_result"
    }
   ],
   "source": [
    "data_to_predict[data_to_predict['unused']==False].head()"
   ]
  },
  {
   "cell_type": "code",
   "execution_count": 119,
   "metadata": {},
   "outputs": [],
   "source": [
    "ml_data = data_to_predict[data_to_predict['unused']==False] "
   ]
  },
  {
   "cell_type": "code",
   "execution_count": 120,
   "metadata": {},
   "outputs": [
    {
     "name": "stderr",
     "output_type": "stream",
     "text": [
      "<ipython-input-120-34ffb1fc69d3>:3: SettingWithCopyWarning: \n",
      "A value is trying to be set on a copy of a slice from a DataFrame\n",
      "\n",
      "See the caveats in the documentation: https://pandas.pydata.org/pandas-docs/stable/user_guide/indexing.html#returning-a-view-versus-a-copy\n",
      "  df.dropna(inplace=True)\n"
     ]
    }
   ],
   "source": [
    "def clean_dataset(df):\n",
    "    assert isinstance(df, pd.DataFrame), \"df needs to be a pd.DataFrame\"\n",
    "    df.dropna(inplace=True)\n",
    "    indices_to_keep = ~df.isin([np.nan, np.inf, -np.inf]).any(1)\n",
    "    return df[indices_to_keep].astype(np.float64)\n",
    "\n",
    "if 'unused' in list(ml_data.columns):\n",
    "    del ml_data['unused']\n",
    "\n",
    "ml_data = clean_dataset(ml_data)\n",
    "\n",
    "model = models['RandomForestClassifier']\n",
    "target = model.predict(ml_data)"
   ]
  },
  {
   "cell_type": "code",
   "execution_count": 122,
   "metadata": {},
   "outputs": [
    {
     "name": "stdout",
     "output_type": "stream",
     "text": [
      "['Exp_nonfit' 'Exp_lin' 'Exp_lin' ... 'Exp_nonfit' 'Exp_nonfit'\n",
      " 'Exp_nonfit'] 209666\n"
     ]
    }
   ],
   "source": [
    "print(target, len(target))"
   ]
  },
  {
   "cell_type": "code",
   "execution_count": 102,
   "metadata": {},
   "outputs": [],
   "source": [
    "class_count = {}\n",
    "for each_class in target:\n",
    "    if each_class not in class_count:\n",
    "        class_count[each_class] = 1\n",
    "    else:\n",
    "        class_count[each_class] += 1\n",
    "\n",
    "class_percentage = {}\n",
    "for each_class in class_count:\n",
    "    class_percentage[each_class] = class_count[each_class]/len(target)*100"
   ]
  },
  {
   "cell_type": "code",
   "execution_count": 103,
   "metadata": {},
   "outputs": [
    {
     "name": "stdout",
     "output_type": "stream",
     "text": [
      "{'Exp_nonfit': 168230, 'Exp_lin': 22070, 'Exp_fall': 288, 'Exp_used': 18715, 'Exp_2date': 363}\n",
      "{'Exp_nonfit': 80.23713906880468, 'Exp_lin': 10.526265584310284, 'Exp_fall': 0.13736132706304313, 'Exp_used': 8.926101513836292, 'Exp_2date': 0.17313250598571062}\n"
     ]
    }
   ],
   "source": [
    "print(class_count)\n",
    "print(class_percentage)"
   ]
  },
  {
   "cell_type": "code",
   "execution_count": 109,
   "metadata": {},
   "outputs": [],
   "source": [
    "data3 = pd.read_csv('combined_csv_whole_data.csv')"
   ]
  },
  {
   "cell_type": "code",
   "execution_count": 110,
   "metadata": {},
   "outputs": [
    {
     "name": "stderr",
     "output_type": "stream",
     "text": [
      "<ipython-input-110-ee6b1e9ed2be>:4: SettingWithCopyWarning: \n",
      "A value is trying to be set on a copy of a slice from a DataFrame.\n",
      "Try using .loc[row_indexer,col_indexer] = value instead\n",
      "\n",
      "See the caveats in the documentation: https://pandas.pydata.org/pandas-docs/stable/user_guide/indexing.html#returning-a-view-versus-a-copy\n",
      "  data_to_predict['unused'] = None\n"
     ]
    }
   ],
   "source": [
    "data3 = data3.fillna(0)\n",
    "data_to_predict = data3[['analyzed_fraction', 'delta_y', 'exp_A', 'exp_B', 'exp_r_squared','logistic_k', 'logistic_r_s']]\n",
    "\n",
    "data_to_predict['unused'] = None\n",
    "data_to_predict = data_to_predict.apply(lambda row : generate_data_to_classify(row), axis=1)\n",
    "\n",
    "ml_data = data_to_predict[data_to_predict['unused']==False]\n",
    "\n",
    "if 'unused' in list(ml_data.columns):\n",
    "    del ml_data['unused']"
   ]
  },
  {
   "cell_type": "code",
   "execution_count": 114,
   "metadata": {},
   "outputs": [
    {
     "name": "stdout",
     "output_type": "stream",
     "text": [
      "209797\n",
      "209797\n",
      "209797\n",
      "209797\n",
      "209797\n",
      "209797\n",
      "209797\n",
      "209797\n",
      "{'Exp_nonfit': 168206, 'Exp_lin': 22173, 'Exp_used': 18770, 'Exp_2date': 361, 'Exp_fall': 287}\n",
      "{'Exp_nonfit': 80.17559831646783, 'Exp_lin': 10.568787923564207, 'Exp_used': 8.946743757060396, 'Exp_2date': 0.17207109729881742, 'Exp_fall': 0.13679890560875513}\n"
     ]
    }
   ],
   "source": [
    "ml_data = convert_to_float_32(ml_data)\n",
    "ml_data = clean_dataset(ml_data)\n",
    "\n",
    "model = models['RandomForestClassifier']\n",
    "target = model.predict(ml_data)\n",
    "\n",
    "class_count = {}\n",
    "for each_class in target:\n",
    "    if each_class not in class_count:\n",
    "        class_count[each_class] = 1\n",
    "    else:\n",
    "        class_count[each_class] += 1\n",
    "\n",
    "class_percentage = {}\n",
    "for each_class in class_count:\n",
    "    class_percentage[each_class] = class_count[each_class]/len(target)*100\n",
    "\n",
    "print(len(target))\n",
    "print(class_count)\n",
    "print(class_percentage)"
   ]
  },
  {
   "cell_type": "code",
   "execution_count": null,
   "metadata": {},
   "outputs": [],
   "source": []
  }
 ],
 "metadata": {
  "kernelspec": {
   "display_name": "f8650env",
   "language": "python",
   "name": "f8650env"
  },
  "language_info": {
   "codemirror_mode": {
    "name": "ipython",
    "version": 3
   },
   "file_extension": ".py",
   "mimetype": "text/x-python",
   "name": "python",
   "nbconvert_exporter": "python",
   "pygments_lexer": "ipython3",
   "version": "3.8.2"
  }
 },
 "nbformat": 4,
 "nbformat_minor": 4
}
