{
  "nbformat": 4,
  "nbformat_minor": 0,
  "metadata": {
    "colab": {
      "name": "creating_graphs",
      "provenance": [],
      "collapsed_sections": []
    },
    "kernelspec": {
      "display_name": "Python 3",
      "name": "python3"
    }
  },
  "cells": [
    {
      "cell_type": "markdown",
      "metadata": {
        "id": "2KuspTTQvH2V"
      },
      "source": [
        "## Creating graphs the whole dataset for file sizes and number of rows \n",
        "\n",
        "##### @authors: Abhijeet Amle, Roshan Bhandari, Abhimanyu Abhinav"
      ]
    },
    {
      "cell_type": "code",
      "metadata": {
        "colab": {
          "base_uri": "https://localhost:8080/"
        },
        "id": "t4E_SHikQ3Bs",
        "outputId": "9c873457-5e43-46cc-a82f-e596c2c4db1f"
      },
      "source": [
        "size_dict = {'upto_10K': 0, '10K_500K': 0, '500K_1M': 0, '1M_10M': 0, '10M_1G': 0, '1G+': 0}\n",
        "size = set(['M', 'K', 'G'])\n",
        "count_exceptions = 0\n",
        "size_dict"
      ],
      "execution_count": null,
      "outputs": [
        {
          "output_type": "execute_result",
          "data": {
            "text/plain": [
              "{'10K_500K': 0,\n",
              " '10M_1G': 0,\n",
              " '1G+': 0,\n",
              " '1M_10M': 0,\n",
              " '500K_1M': 0,\n",
              " 'upto_10K': 0}"
            ]
          },
          "metadata": {
            "tags": []
          },
          "execution_count": 1
        }
      ]
    },
    {
      "cell_type": "code",
      "metadata": {
        "id": "lIYdn1woOS1n"
      },
      "source": [
        "with open('/content/file_sizes.txt', 'r') as filesize:\n",
        "    for line in filesize:\n",
        "        if line[-2] in size:\n",
        "            num = float(line[:-2])\n",
        "\n",
        "            if line[-2] == 'K':\n",
        "                if (500 >= num >= 10):\n",
        "                    size_dict['10K_500K'] += 1\n",
        "                elif (num > 500):\n",
        "                    size_dict['500K_1M'] += 1\n",
        "                else:\n",
        "                    size_dict['upto_10K'] += 1  \n",
        "                \n",
        "            elif line[-2] == 'M':\n",
        "                if (num > 10):\n",
        "                    size_dict['10M_1G'] += 1\n",
        "                else:\n",
        "                    size_dict['1M_10M'] += 1 \n",
        "\n",
        "            elif line[-2] == 'G':\n",
        "                size_dict['1G+'] += 1\n",
        "\n",
        "            else:\n",
        "                count_exceptions += 1\n",
        "                \n",
        "        else:\n",
        "            size_dict['upto_10K'] += 1"
      ],
      "execution_count": null,
      "outputs": []
    },
    {
      "cell_type": "code",
      "metadata": {
        "colab": {
          "base_uri": "https://localhost:8080/"
        },
        "id": "08uCjj2IQnID",
        "outputId": "433e084e-151d-46f7-b192-930eee6731d3"
      },
      "source": [
        "print(size_dict)"
      ],
      "execution_count": null,
      "outputs": [
        {
          "output_type": "stream",
          "text": [
            "{'upto_10K': 1225, '10K_500K': 7361, '500K_1M': 1926, '1M_10M': 520, '10M_1G': 553, '1G+': 27}\n"
          ],
          "name": "stdout"
        }
      ]
    },
    {
      "cell_type": "code",
      "metadata": {
        "colab": {
          "base_uri": "https://localhost:8080/"
        },
        "id": "cur3XOrqRDH2",
        "outputId": "9b2f4412-dad3-4b73-8539-302bd5f71b9d"
      },
      "source": [
        "count_exceptions"
      ],
      "execution_count": null,
      "outputs": [
        {
          "output_type": "execute_result",
          "data": {
            "text/plain": [
              "0"
            ]
          },
          "metadata": {
            "tags": []
          },
          "execution_count": 4
        }
      ]
    },
    {
      "cell_type": "code",
      "metadata": {
        "colab": {
          "base_uri": "https://localhost:8080/"
        },
        "id": "B6IhE3erjQN3",
        "outputId": "0fa6f241-7524-4eeb-c65f-e23f0bad3b7a"
      },
      "source": [
        "for key in size_dict:\n",
        "    print(key, \"-\", size_dict[key])"
      ],
      "execution_count": null,
      "outputs": [
        {
          "output_type": "stream",
          "text": [
            "upto_10K - 1225\n",
            "10K_500K - 7361\n",
            "500K_1M - 1926\n",
            "1M_10M - 520\n",
            "10M_1G - 553\n",
            "1G+ - 27\n"
          ],
          "name": "stdout"
        }
      ]
    },
    {
      "cell_type": "code",
      "metadata": {
        "colab": {
          "base_uri": "https://localhost:8080/",
          "height": 280
        },
        "id": "B-9l0Yy8kxj2",
        "outputId": "5e0f03f5-dfb1-49e6-d9a8-c819f4dc5564"
      },
      "source": [
        "import matplotlib.pyplot as plt\n",
        "\n",
        "keys = list(size_dict.keys())\n",
        "values = list(size_dict.values())\n",
        "\n",
        "line = plt.bar(keys, values)\n",
        "\n",
        "plt.xlabel('File sizes')\n",
        "plt.ylabel(\"Number of files\")\n",
        "\n",
        "for i in range(len(size_dict)):\n",
        "    plt.annotate(str(values[i]), xy=(keys[i],values[i]), ha='center', va='bottom')\n",
        "\n",
        "plt.savefig(\"1.png\")\n",
        "plt.show()"
      ],
      "execution_count": null,
      "outputs": [
        {
          "output_type": "display_data",
          "data": {
            "image/png": "[encoded data removed]",
            "text/plain": [
              "<Figure size 432x288 with 1 Axes>"
            ]
          },
          "metadata": {
            "tags": [],
            "needs_background": "light"
          }
        }
      ]
    },
    {
      "cell_type": "code",
      "metadata": {
        "id": "LnBhETqRvuD7"
      },
      "source": [
        "from collections import defaultdict\n",
        "linecount_dict = defaultdict(int)\n",
        "with open('/content/linecount.txt', 'r') as linecountfile:\n",
        "    for line in linecountfile:\n",
        "        line = line.strip()\n",
        "        num = int(line.split()[0])\n",
        "        linecount_dict[num] += 1\n"
      ],
      "execution_count": null,
      "outputs": []
    },
    {
      "cell_type": "code",
      "metadata": {
        "id": "tiFAyuurAGS-",
        "colab": {
          "base_uri": "https://localhost:8080/"
        },
        "outputId": "a56dc8cb-eca3-4d1b-8d10-dca35a6114da"
      },
      "source": [
        "min(linecount_dict)"
      ],
      "execution_count": null,
      "outputs": [
        {
          "output_type": "execute_result",
          "data": {
            "text/plain": [
              "0"
            ]
          },
          "metadata": {
            "tags": []
          },
          "execution_count": 8
        }
      ]
    },
    {
      "cell_type": "code",
      "metadata": {
        "id": "yezPZSG4AJYz",
        "colab": {
          "base_uri": "https://localhost:8080/"
        },
        "outputId": "6b5eb8ff-65a1-44a5-b89c-d8840a1f4f3b"
      },
      "source": [
        "max(linecount_dict)"
      ],
      "execution_count": null,
      "outputs": [
        {
          "output_type": "execute_result",
          "data": {
            "text/plain": [
              "123235362"
            ]
          },
          "metadata": {
            "tags": []
          },
          "execution_count": 9
        }
      ]
    },
    {
      "cell_type": "code",
      "metadata": {
        "id": "M7JHHaepTEa5",
        "colab": {
          "base_uri": "https://localhost:8080/",
          "height": 282
        },
        "outputId": "19780099-1d65-4a2e-a26e-689bcb458df4"
      },
      "source": [
        "import matplotlib.pyplot as plt\n",
        "import math\n",
        "\n",
        "keys = list(linecount_dict.keys())\n",
        "values = list(linecount_dict.values())\n",
        "\n",
        "keys_new = [0] * len(keys)\n",
        "\n",
        "for i in range(len(keys)):\n",
        "    if keys[i] != 0:\n",
        "        keys[i] = math.log(keys[i])\n",
        "\n",
        "line = plt.bar(keys, values)\n",
        "\n",
        "plt.xlabel('Number of rows logarithmized')\n",
        "plt.ylabel(\"Number of files\")\n",
        "\n",
        "plt.savefig(\"2.png\")\n",
        "plt.show()"
      ],
      "execution_count": null,
      "outputs": [
        {
          "output_type": "display_data",
          "data": {
            "image/png": "[encoded data removed]",
            "text/plain": [
              "<Figure size 432x288 with 1 Axes>"
            ]
          },
          "metadata": {
            "tags": [],
            "needs_background": "light"
          }
        }
      ]
    },
    {
      "cell_type": "code",
      "metadata": {
        "id": "NACRYiuOiqc8"
      },
      "source": [
        ""
      ],
      "execution_count": null,
      "outputs": []
    }
  ]
}
